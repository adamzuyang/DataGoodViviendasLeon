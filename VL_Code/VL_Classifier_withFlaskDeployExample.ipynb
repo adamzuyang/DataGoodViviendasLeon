{
 "cells": [
  {
   "cell_type": "markdown",
   "metadata": {
    "id": "t1jBkpjDT3NM"
   },
   "source": [
    "# Viviendas Leon \n",
    "\n",
    "### Who are we? \n",
    "\n",
    "We are Berkeley undergraduates working with Viviendas Leon, a nonprofit dedicated to eliminating rural poverty in Nicaragua and Guatemala. \n",
    "\n",
    "`Team lead`: Elda Pere\n",
    "\n",
    "`Team members`: Lauren Faulds, Chase Elements, Barnett (Adam) Yang, Kathryn (Katie) Byers, Eva Sidlo, Kelly Trinh \n",
    "\n",
    "\n",
    "### Questions to address: \n",
    "Given location, soil, and weather data, which crops should a farmer plant that would be most resilient to disease?\n",
    "\n",
    "### Dataset description: \n",
    "`Data source`: Viviendas Leon \n",
    "\n",
    "It contains information on crop disease percentage, crop conditions, and any recommendations made. We also scraped weather data, which includes dew point, temperature, percipitation data, and more, and append to our dataset. \n",
    " \n",
    "### Objectives: \n",
    "1. Clean the data to account for missing value, inconsistent names, translate Spanish to English, and scrap weather data to supplement the dataset. \n",
    "2. Perform exploratory data analysis to find trends between crop type, effectiveness of recommendations, and geographical area, and disease percentage.\n",
    "3. Build a classifier to predict which crop is most disease-resilient given specific weather and geographical information. \n",
    "\n",
    "`Note`: The initial data cleaning step is left in the appendix below for brevity. The original data is in Spanish, therefore, some of the table showed below will be in Spanish.\n",
    "\n",
    "\n"
   ]
  },
  {
   "cell_type": "markdown",
   "metadata": {
    "id": "7jpwSYoNFBi4"
   },
   "source": [
    "### Import Libraries"
   ]
  },
  {
   "cell_type": "code",
   "execution_count": 38,
   "metadata": {},
   "outputs": [
    {
     "name": "stdout",
     "output_type": "stream",
     "text": [
      "Updating Homebrew...\n",
      "\u001b[34m==>\u001b[0m \u001b[1mAuto-updated Homebrew!\u001b[0m\n",
      "Updated 1 tap (homebrew/core).\n",
      "\u001b[34m==>\u001b[0m \u001b[1mNew Formulae\u001b[0m\n",
      "ddcctl\n",
      "\u001b[34m==>\u001b[0m \u001b[1mUpdated Formulae\u001b[0m\n",
      "Updated 21 formulae.\n",
      "\n",
      "\u001b[34m==>\u001b[0m \u001b[1mDownloading https://ghcr.io/v2/homebrew/core/libomp/manifests/12.0.0\u001b[0m\n",
      "######################################################################## 100.0%\n",
      "\u001b[34m==>\u001b[0m \u001b[1mDownloading https://ghcr.io/v2/homebrew/core/libomp/blobs/sha256:fe1e5c0fa8f\u001b[0m\n",
      "\u001b[34m==>\u001b[0m \u001b[1mDownloading from https://pkg-containers.githubusercontent.com/ghcr1/blobs/sh\u001b[0m\n",
      "######################################################################## 100.0%\n",
      "\u001b[34m==>\u001b[0m \u001b[1mPouring libomp--12.0.0.big_sur.bottle.tar.gz\u001b[0m\n",
      "🍺  /usr/local/Cellar/libomp/12.0.0: 9 files, 1.5MB\n"
     ]
    }
   ],
   "source": [
    "!brew install libomp"
   ]
  },
  {
   "cell_type": "code",
   "execution_count": 168,
   "metadata": {
    "colab": {
     "base_uri": "https://localhost:8080/"
    },
    "id": "T52YEBZGPYYZ",
    "outputId": "b153348c-0fa5-4150-ef63-407f4833c1d0"
   },
   "outputs": [
    {
     "name": "stdout",
     "output_type": "stream",
     "text": [
      "Requirement already satisfied: sklearn in ./opt/anaconda3/lib/python3.8/site-packages (0.0)\n",
      "Requirement already satisfied: scikit-learn in ./opt/anaconda3/lib/python3.8/site-packages (from sklearn) (0.24.2)\n",
      "Requirement already satisfied: joblib>=0.11 in ./opt/anaconda3/lib/python3.8/site-packages (from scikit-learn->sklearn) (0.17.0)\n",
      "Requirement already satisfied: scipy>=0.19.1 in ./opt/anaconda3/lib/python3.8/site-packages (from scikit-learn->sklearn) (1.5.2)\n",
      "Requirement already satisfied: numpy>=1.13.3 in ./opt/anaconda3/lib/python3.8/site-packages (from scikit-learn->sklearn) (1.19.2)\n",
      "Requirement already satisfied: threadpoolctl>=2.0.0 in ./opt/anaconda3/lib/python3.8/site-packages (from scikit-learn->sklearn) (2.1.0)\n",
      "Requirement already satisfied: xgboost in ./opt/anaconda3/lib/python3.8/site-packages (1.4.1)\n",
      "Requirement already satisfied: numpy in ./opt/anaconda3/lib/python3.8/site-packages (from xgboost) (1.19.2)\n",
      "Requirement already satisfied: scipy in ./opt/anaconda3/lib/python3.8/site-packages (from xgboost) (1.5.2)\n"
     ]
    },
    {
     "data": {
      "text/html": [
       "<div>\n",
       "<style scoped>\n",
       "    .dataframe tbody tr th:only-of-type {\n",
       "        vertical-align: middle;\n",
       "    }\n",
       "\n",
       "    .dataframe tbody tr th {\n",
       "        vertical-align: top;\n",
       "    }\n",
       "\n",
       "    .dataframe thead th {\n",
       "        text-align: right;\n",
       "    }\n",
       "</style>\n",
       "<table border=\"1\" class=\"dataframe\">\n",
       "  <thead>\n",
       "    <tr style=\"text-align: right;\">\n",
       "      <th></th>\n",
       "      <th>Region</th>\n",
       "      <th>Crop</th>\n",
       "      <th>Seedling_or_transplanted</th>\n",
       "      <th>% Disease</th>\n",
       "      <th>Condition</th>\n",
       "      <th>Plague</th>\n",
       "      <th>Organic recommendation</th>\n",
       "      <th>Chemical recommendation</th>\n",
       "      <th>Type</th>\n",
       "      <th>Month visited</th>\n",
       "      <th>...</th>\n",
       "      <th>Location_12.46%-86.95</th>\n",
       "      <th>Location_12.46%-86.96</th>\n",
       "      <th>Location_12.46%-87.0</th>\n",
       "      <th>Location_12.47%-86.95</th>\n",
       "      <th>Location_12.48%-86.95</th>\n",
       "      <th>Location_12.48%-86.96</th>\n",
       "      <th>Trans_or_seed_0</th>\n",
       "      <th>Trans_or_seed_7.082352941</th>\n",
       "      <th>Trans_or_seed_seedling</th>\n",
       "      <th>Trans_or_seed_transplanted</th>\n",
       "    </tr>\n",
       "  </thead>\n",
       "  <tbody>\n",
       "    <tr>\n",
       "      <th>0</th>\n",
       "      <td>Troilo</td>\n",
       "      <td>Calala</td>\n",
       "      <td>transplanted</td>\n",
       "      <td>3</td>\n",
       "      <td>good_cond</td>\n",
       "      <td>0</td>\n",
       "      <td>0</td>\n",
       "      <td>0</td>\n",
       "      <td>Fruit</td>\n",
       "      <td>11</td>\n",
       "      <td>...</td>\n",
       "      <td>0</td>\n",
       "      <td>0</td>\n",
       "      <td>1</td>\n",
       "      <td>0</td>\n",
       "      <td>0</td>\n",
       "      <td>0</td>\n",
       "      <td>0</td>\n",
       "      <td>0</td>\n",
       "      <td>0</td>\n",
       "      <td>1</td>\n",
       "    </tr>\n",
       "    <tr>\n",
       "      <th>1</th>\n",
       "      <td>Troilo</td>\n",
       "      <td>Papaya</td>\n",
       "      <td>transplanted</td>\n",
       "      <td>2</td>\n",
       "      <td>good_cond</td>\n",
       "      <td>0</td>\n",
       "      <td>0</td>\n",
       "      <td>0</td>\n",
       "      <td>Fruit</td>\n",
       "      <td>11</td>\n",
       "      <td>...</td>\n",
       "      <td>0</td>\n",
       "      <td>0</td>\n",
       "      <td>1</td>\n",
       "      <td>0</td>\n",
       "      <td>0</td>\n",
       "      <td>0</td>\n",
       "      <td>0</td>\n",
       "      <td>0</td>\n",
       "      <td>0</td>\n",
       "      <td>1</td>\n",
       "    </tr>\n",
       "    <tr>\n",
       "      <th>2</th>\n",
       "      <td>Troilo</td>\n",
       "      <td>Calala</td>\n",
       "      <td>transplanted</td>\n",
       "      <td>3</td>\n",
       "      <td>good_cond</td>\n",
       "      <td>0</td>\n",
       "      <td>0</td>\n",
       "      <td>0</td>\n",
       "      <td>Fruit</td>\n",
       "      <td>11</td>\n",
       "      <td>...</td>\n",
       "      <td>0</td>\n",
       "      <td>0</td>\n",
       "      <td>0</td>\n",
       "      <td>0</td>\n",
       "      <td>0</td>\n",
       "      <td>0</td>\n",
       "      <td>0</td>\n",
       "      <td>0</td>\n",
       "      <td>0</td>\n",
       "      <td>1</td>\n",
       "    </tr>\n",
       "    <tr>\n",
       "      <th>3</th>\n",
       "      <td>Troilo</td>\n",
       "      <td>Papaya</td>\n",
       "      <td>transplanted</td>\n",
       "      <td>2</td>\n",
       "      <td>good_cond</td>\n",
       "      <td>0</td>\n",
       "      <td>0</td>\n",
       "      <td>0</td>\n",
       "      <td>Fruit</td>\n",
       "      <td>11</td>\n",
       "      <td>...</td>\n",
       "      <td>0</td>\n",
       "      <td>0</td>\n",
       "      <td>0</td>\n",
       "      <td>0</td>\n",
       "      <td>0</td>\n",
       "      <td>0</td>\n",
       "      <td>0</td>\n",
       "      <td>0</td>\n",
       "      <td>0</td>\n",
       "      <td>1</td>\n",
       "    </tr>\n",
       "    <tr>\n",
       "      <th>4</th>\n",
       "      <td>Troilo</td>\n",
       "      <td>Calala</td>\n",
       "      <td>transplanted</td>\n",
       "      <td>2</td>\n",
       "      <td>good_cond</td>\n",
       "      <td>0</td>\n",
       "      <td>0</td>\n",
       "      <td>0</td>\n",
       "      <td>Fruit</td>\n",
       "      <td>11</td>\n",
       "      <td>...</td>\n",
       "      <td>0</td>\n",
       "      <td>0</td>\n",
       "      <td>0</td>\n",
       "      <td>0</td>\n",
       "      <td>0</td>\n",
       "      <td>0</td>\n",
       "      <td>0</td>\n",
       "      <td>0</td>\n",
       "      <td>0</td>\n",
       "      <td>1</td>\n",
       "    </tr>\n",
       "    <tr>\n",
       "      <th>...</th>\n",
       "      <td>...</td>\n",
       "      <td>...</td>\n",
       "      <td>...</td>\n",
       "      <td>...</td>\n",
       "      <td>...</td>\n",
       "      <td>...</td>\n",
       "      <td>...</td>\n",
       "      <td>...</td>\n",
       "      <td>...</td>\n",
       "      <td>...</td>\n",
       "      <td>...</td>\n",
       "      <td>...</td>\n",
       "      <td>...</td>\n",
       "      <td>...</td>\n",
       "      <td>...</td>\n",
       "      <td>...</td>\n",
       "      <td>...</td>\n",
       "      <td>...</td>\n",
       "      <td>...</td>\n",
       "      <td>...</td>\n",
       "      <td>...</td>\n",
       "    </tr>\n",
       "    <tr>\n",
       "      <th>6742</th>\n",
       "      <td>Goyena</td>\n",
       "      <td>Maiz</td>\n",
       "      <td>transplanted</td>\n",
       "      <td>0</td>\n",
       "      <td>excellent_cond</td>\n",
       "      <td>0</td>\n",
       "      <td>0</td>\n",
       "      <td>0</td>\n",
       "      <td>Grains</td>\n",
       "      <td>10</td>\n",
       "      <td>...</td>\n",
       "      <td>0</td>\n",
       "      <td>0</td>\n",
       "      <td>0</td>\n",
       "      <td>0</td>\n",
       "      <td>1</td>\n",
       "      <td>0</td>\n",
       "      <td>0</td>\n",
       "      <td>0</td>\n",
       "      <td>0</td>\n",
       "      <td>1</td>\n",
       "    </tr>\n",
       "    <tr>\n",
       "      <th>6743</th>\n",
       "      <td>Troilo</td>\n",
       "      <td>Maiz</td>\n",
       "      <td>transplanted</td>\n",
       "      <td>0</td>\n",
       "      <td>excellent_cond</td>\n",
       "      <td>0</td>\n",
       "      <td>0</td>\n",
       "      <td>0</td>\n",
       "      <td>Grains</td>\n",
       "      <td>10</td>\n",
       "      <td>...</td>\n",
       "      <td>0</td>\n",
       "      <td>1</td>\n",
       "      <td>0</td>\n",
       "      <td>0</td>\n",
       "      <td>0</td>\n",
       "      <td>0</td>\n",
       "      <td>0</td>\n",
       "      <td>0</td>\n",
       "      <td>0</td>\n",
       "      <td>1</td>\n",
       "    </tr>\n",
       "    <tr>\n",
       "      <th>6744</th>\n",
       "      <td>Troilo</td>\n",
       "      <td>Maiz</td>\n",
       "      <td>transplanted</td>\n",
       "      <td>0</td>\n",
       "      <td>excellent_cond</td>\n",
       "      <td>0</td>\n",
       "      <td>0</td>\n",
       "      <td>0</td>\n",
       "      <td>Grains</td>\n",
       "      <td>10</td>\n",
       "      <td>...</td>\n",
       "      <td>0</td>\n",
       "      <td>0</td>\n",
       "      <td>1</td>\n",
       "      <td>0</td>\n",
       "      <td>0</td>\n",
       "      <td>0</td>\n",
       "      <td>0</td>\n",
       "      <td>0</td>\n",
       "      <td>0</td>\n",
       "      <td>1</td>\n",
       "    </tr>\n",
       "    <tr>\n",
       "      <th>6745</th>\n",
       "      <td>Goyena</td>\n",
       "      <td>Maiz</td>\n",
       "      <td>transplanted</td>\n",
       "      <td>2</td>\n",
       "      <td>good_cond</td>\n",
       "      <td>Deafania</td>\n",
       "      <td>Hojas de chile</td>\n",
       "      <td>0</td>\n",
       "      <td>Grains</td>\n",
       "      <td>10</td>\n",
       "      <td>...</td>\n",
       "      <td>0</td>\n",
       "      <td>0</td>\n",
       "      <td>0</td>\n",
       "      <td>0</td>\n",
       "      <td>1</td>\n",
       "      <td>0</td>\n",
       "      <td>0</td>\n",
       "      <td>0</td>\n",
       "      <td>0</td>\n",
       "      <td>1</td>\n",
       "    </tr>\n",
       "    <tr>\n",
       "      <th>6746</th>\n",
       "      <td>Goyena</td>\n",
       "      <td>Maiz</td>\n",
       "      <td>transplanted</td>\n",
       "      <td>0</td>\n",
       "      <td>good_cond</td>\n",
       "      <td>0</td>\n",
       "      <td>0</td>\n",
       "      <td>0</td>\n",
       "      <td>Grains</td>\n",
       "      <td>11</td>\n",
       "      <td>...</td>\n",
       "      <td>0</td>\n",
       "      <td>0</td>\n",
       "      <td>0</td>\n",
       "      <td>0</td>\n",
       "      <td>1</td>\n",
       "      <td>0</td>\n",
       "      <td>0</td>\n",
       "      <td>0</td>\n",
       "      <td>0</td>\n",
       "      <td>1</td>\n",
       "    </tr>\n",
       "  </tbody>\n",
       "</table>\n",
       "<p>6741 rows × 64 columns</p>\n",
       "</div>"
      ],
      "text/plain": [
       "      Region    Crop Seedling_or_transplanted  % Disease       Condition  \\\n",
       "0     Troilo  Calala             transplanted          3       good_cond   \n",
       "1     Troilo  Papaya             transplanted          2       good_cond   \n",
       "2     Troilo  Calala             transplanted          3       good_cond   \n",
       "3     Troilo  Papaya             transplanted          2       good_cond   \n",
       "4     Troilo  Calala             transplanted          2       good_cond   \n",
       "...      ...     ...                      ...        ...             ...   \n",
       "6742  Goyena    Maiz             transplanted          0  excellent_cond   \n",
       "6743  Troilo    Maiz             transplanted          0  excellent_cond   \n",
       "6744  Troilo    Maiz             transplanted          0  excellent_cond   \n",
       "6745  Goyena    Maiz             transplanted          2       good_cond   \n",
       "6746  Goyena    Maiz             transplanted          0       good_cond   \n",
       "\n",
       "        Plague Organic recommendation Chemical recommendation    Type  \\\n",
       "0            0                      0                       0   Fruit   \n",
       "1            0                      0                       0   Fruit   \n",
       "2            0                      0                       0   Fruit   \n",
       "3            0                      0                       0   Fruit   \n",
       "4            0                      0                       0   Fruit   \n",
       "...        ...                    ...                     ...     ...   \n",
       "6742         0                      0                       0  Grains   \n",
       "6743         0                      0                       0  Grains   \n",
       "6744         0                      0                       0  Grains   \n",
       "6745  Deafania         Hojas de chile                       0  Grains   \n",
       "6746         0                      0                       0  Grains   \n",
       "\n",
       "      Month visited  ...  Location_12.46%-86.95  Location_12.46%-86.96  \\\n",
       "0                11  ...                      0                      0   \n",
       "1                11  ...                      0                      0   \n",
       "2                11  ...                      0                      0   \n",
       "3                11  ...                      0                      0   \n",
       "4                11  ...                      0                      0   \n",
       "...             ...  ...                    ...                    ...   \n",
       "6742             10  ...                      0                      0   \n",
       "6743             10  ...                      0                      1   \n",
       "6744             10  ...                      0                      0   \n",
       "6745             10  ...                      0                      0   \n",
       "6746             11  ...                      0                      0   \n",
       "\n",
       "      Location_12.46%-87.0  Location_12.47%-86.95  Location_12.48%-86.95  \\\n",
       "0                        1                      0                      0   \n",
       "1                        1                      0                      0   \n",
       "2                        0                      0                      0   \n",
       "3                        0                      0                      0   \n",
       "4                        0                      0                      0   \n",
       "...                    ...                    ...                    ...   \n",
       "6742                     0                      0                      1   \n",
       "6743                     0                      0                      0   \n",
       "6744                     1                      0                      0   \n",
       "6745                     0                      0                      1   \n",
       "6746                     0                      0                      1   \n",
       "\n",
       "      Location_12.48%-86.96  Trans_or_seed_0  Trans_or_seed_7.082352941  \\\n",
       "0                         0                0                          0   \n",
       "1                         0                0                          0   \n",
       "2                         0                0                          0   \n",
       "3                         0                0                          0   \n",
       "4                         0                0                          0   \n",
       "...                     ...              ...                        ...   \n",
       "6742                      0                0                          0   \n",
       "6743                      0                0                          0   \n",
       "6744                      0                0                          0   \n",
       "6745                      0                0                          0   \n",
       "6746                      0                0                          0   \n",
       "\n",
       "      Trans_or_seed_seedling  Trans_or_seed_transplanted  \n",
       "0                          0                           1  \n",
       "1                          0                           1  \n",
       "2                          0                           1  \n",
       "3                          0                           1  \n",
       "4                          0                           1  \n",
       "...                      ...                         ...  \n",
       "6742                       0                           1  \n",
       "6743                       0                           1  \n",
       "6744                       0                           1  \n",
       "6745                       0                           1  \n",
       "6746                       0                           1  \n",
       "\n",
       "[6741 rows x 64 columns]"
      ]
     },
     "execution_count": 168,
     "metadata": {},
     "output_type": "execute_result"
    }
   ],
   "source": [
    "import pandas as pd\n",
    "import numpy as np\n",
    "!pip install sklearn\n",
    "import sklearn \n",
    "from datetime import datetime, timedelta\n",
    "import os\n",
    "import matplotlib.pyplot as plt\n",
    "import seaborn as sns\n",
    "\n",
    "from sklearn.model_selection import train_test_split\n",
    "from sklearn.pipeline import Pipeline\n",
    "from sklearn.compose import ColumnTransformer\n",
    "from sklearn.preprocessing import StandardScaler, LabelEncoder, OneHotEncoder, MinMaxScaler\n",
    "from sklearn.feature_extraction.text import CountVectorizer\n",
    "from sklearn.experimental import enable_iterative_imputer\n",
    "from sklearn.impute import IterativeImputer, SimpleImputer\n",
    "from sklearn.linear_model import LogisticRegression, LogisticRegressionCV\n",
    "from sklearn.metrics import classification_report, roc_auc_score, roc_curve, accuracy_score, confusion_matrix, f1_score, precision_score, recall_score\n",
    "from sklearn.ensemble import RandomForestClassifier\n",
    "from sklearn.neighbors import KNeighborsClassifier\n",
    "from sklearn.tree import DecisionTreeClassifier\n",
    "from sklearn.metrics import make_scorer\n",
    "from sklearn import metrics\n",
    "from sklearn.model_selection import GridSearchCV\n",
    "\n",
    "from sklearn.multiclass import OneVsRestClassifier\n",
    "from sklearn.svm import SVC\n",
    "from sklearn import svm\n",
    "\n",
    "from sklearn.model_selection import cross_val_score\n",
    "from sklearn.model_selection import RepeatedStratifiedKFold\n",
    "from sklearn.decomposition import PCA\n",
    "!pip install xgboost\n",
    "from xgboost import XGBClassifier\n",
    "\n",
    "from imblearn.over_sampling import SMOTE, ADASYN\n",
    "df"
   ]
  },
  {
   "cell_type": "markdown",
   "metadata": {
    "id": "vDXzDykw4xCj"
   },
   "source": [
    "### 👀 Read Data\n",
    "\n",
    "`VL_farm_geo_w.csv` is the dataset that went through initial cleaning. \n",
    "\n",
    "Each row represents a visit from Viviendas Leon to a family. The row has information on the crop (condition, percent disease, type of crop, and weather conditions such as dew point, heat index, etc.\n",
    "\n",
    "\n",
    "The data spans from 2017 to 2021. \n",
    "\n"
   ]
  },
  {
   "cell_type": "code",
   "execution_count": 6,
   "metadata": {
    "colab": {
     "base_uri": "https://localhost:8080/",
     "height": 211
    },
    "id": "7yhTLQhxPadf",
    "outputId": "b6fb1353-75d2-40ef-c9c1-8a0a91cc9c70"
   },
   "outputs": [
    {
     "name": "stdout",
     "output_type": "stream",
     "text": [
      "Drive already mounted at /content/gdrive; to attempt to forcibly remount, call drive.mount(\"/content/gdrive\", force_remount=True).\n"
     ]
    },
    {
     "ename": "FileNotFoundError",
     "evalue": "ignored",
     "output_type": "error",
     "traceback": [
      "\u001b[0;31m---------------------------------------------------------------------------\u001b[0m",
      "\u001b[0;31mFileNotFoundError\u001b[0m                         Traceback (most recent call last)",
      "\u001b[0;32m<ipython-input-6-fb6125d965ab>\u001b[0m in \u001b[0;36m<module>\u001b[0;34m()\u001b[0m\n\u001b[1;32m      4\u001b[0m \u001b[0mchases_path\u001b[0m \u001b[0;34m=\u001b[0m \u001b[0mpath\u001b[0m \u001b[0;34m+\u001b[0m \u001b[0;34m\"/MyDrive\"\u001b[0m\u001b[0;34m\u001b[0m\u001b[0;34m\u001b[0m\u001b[0m\n\u001b[1;32m      5\u001b[0m \u001b[0mkellys_path\u001b[0m \u001b[0;34m=\u001b[0m \u001b[0mpath\u001b[0m \u001b[0;34m+\u001b[0m \u001b[0;34m\"/MyDrive/VL_Data/Farming_Data\"\u001b[0m\u001b[0;34m\u001b[0m\u001b[0;34m\u001b[0m\u001b[0m\n\u001b[0;32m----> 6\u001b[0;31m \u001b[0mos\u001b[0m\u001b[0;34m.\u001b[0m\u001b[0mchdir\u001b[0m\u001b[0;34m(\u001b[0m\u001b[0mkellys_path\u001b[0m\u001b[0;34m)\u001b[0m\u001b[0;34m\u001b[0m\u001b[0;34m\u001b[0m\u001b[0m\n\u001b[0m",
      "\u001b[0;31mFileNotFoundError\u001b[0m: [Errno 2] No such file or directory: '/content/gdrive/MyDrive/VL_Data/Farming_Data'"
     ]
    }
   ],
   "source": [
    "# connect to the drive\n",
    "drive.mount('/content/gdrive')\n",
    "path = \"/content/gdrive\"\n",
    "chases_path = path + \"/MyDrive\"\n",
    "kellys_path = path + \"/MyDrive/VL_Data/Farming_Data\"\n",
    "os.chdir(kellys_path)"
   ]
  },
  {
   "cell_type": "code",
   "execution_count": 176,
   "metadata": {
    "colab": {
     "base_uri": "https://localhost:8080/",
     "height": 468
    },
    "id": "Z9px53Us3mc6",
    "outputId": "1b6b4cd9-7c2e-49b4-a20a-f5bf3233d52e"
   },
   "outputs": [
    {
     "data": {
      "text/html": [
       "<div>\n",
       "<style scoped>\n",
       "    .dataframe tbody tr th:only-of-type {\n",
       "        vertical-align: middle;\n",
       "    }\n",
       "\n",
       "    .dataframe tbody tr th {\n",
       "        vertical-align: top;\n",
       "    }\n",
       "\n",
       "    .dataframe thead th {\n",
       "        text-align: right;\n",
       "    }\n",
       "</style>\n",
       "<table border=\"1\" class=\"dataframe\">\n",
       "  <thead>\n",
       "    <tr style=\"text-align: right;\">\n",
       "      <th></th>\n",
       "      <th>Date visited</th>\n",
       "      <th>Auditor</th>\n",
       "      <th>Family visited</th>\n",
       "      <th>Present?</th>\n",
       "      <th>Crop</th>\n",
       "      <th>Seedling_or_transplanted</th>\n",
       "      <th>% Disease</th>\n",
       "      <th>Condition</th>\n",
       "      <th>Plague</th>\n",
       "      <th>Organic recommendation</th>\n",
       "      <th>...</th>\n",
       "      <th>WindGustKmph</th>\n",
       "      <th>cloudcover</th>\n",
       "      <th>humidity</th>\n",
       "      <th>precipMM</th>\n",
       "      <th>pressure</th>\n",
       "      <th>tempC</th>\n",
       "      <th>visibility</th>\n",
       "      <th>winddirDegree</th>\n",
       "      <th>windspeedKmph</th>\n",
       "      <th>Season visited</th>\n",
       "    </tr>\n",
       "  </thead>\n",
       "  <tbody>\n",
       "    <tr>\n",
       "      <th>0</th>\n",
       "      <td>2017-11-06</td>\n",
       "      <td>Lesbia/Camilo</td>\n",
       "      <td>karla galiano martínez</td>\n",
       "      <td>Si</td>\n",
       "      <td>Calala</td>\n",
       "      <td>transplanted</td>\n",
       "      <td>3</td>\n",
       "      <td>good_cond</td>\n",
       "      <td>0</td>\n",
       "      <td>0</td>\n",
       "      <td>...</td>\n",
       "      <td>9</td>\n",
       "      <td>18</td>\n",
       "      <td>82</td>\n",
       "      <td>5.3</td>\n",
       "      <td>1013</td>\n",
       "      <td>31</td>\n",
       "      <td>9</td>\n",
       "      <td>105</td>\n",
       "      <td>5</td>\n",
       "      <td>Fall</td>\n",
       "    </tr>\n",
       "    <tr>\n",
       "      <th>1</th>\n",
       "      <td>2017-11-06</td>\n",
       "      <td>Lesbia/Camilo</td>\n",
       "      <td>karla galiano martínez</td>\n",
       "      <td>Si</td>\n",
       "      <td>Papaya</td>\n",
       "      <td>transplanted</td>\n",
       "      <td>2</td>\n",
       "      <td>good_cond</td>\n",
       "      <td>0</td>\n",
       "      <td>0</td>\n",
       "      <td>...</td>\n",
       "      <td>9</td>\n",
       "      <td>18</td>\n",
       "      <td>82</td>\n",
       "      <td>5.3</td>\n",
       "      <td>1013</td>\n",
       "      <td>31</td>\n",
       "      <td>9</td>\n",
       "      <td>105</td>\n",
       "      <td>5</td>\n",
       "      <td>Fall</td>\n",
       "    </tr>\n",
       "    <tr>\n",
       "      <th>2</th>\n",
       "      <td>2017-11-06</td>\n",
       "      <td>Lesbia/Camilo</td>\n",
       "      <td>claudia flavia arévalo</td>\n",
       "      <td>Si</td>\n",
       "      <td>Calala</td>\n",
       "      <td>transplanted</td>\n",
       "      <td>3</td>\n",
       "      <td>good_cond</td>\n",
       "      <td>0</td>\n",
       "      <td>0</td>\n",
       "      <td>...</td>\n",
       "      <td>9</td>\n",
       "      <td>18</td>\n",
       "      <td>82</td>\n",
       "      <td>5.3</td>\n",
       "      <td>1013</td>\n",
       "      <td>31</td>\n",
       "      <td>9</td>\n",
       "      <td>105</td>\n",
       "      <td>5</td>\n",
       "      <td>Fall</td>\n",
       "    </tr>\n",
       "    <tr>\n",
       "      <th>3</th>\n",
       "      <td>2017-11-06</td>\n",
       "      <td>Lesbia/Camilo</td>\n",
       "      <td>cristina alvares solís</td>\n",
       "      <td>Si</td>\n",
       "      <td>Papaya</td>\n",
       "      <td>transplanted</td>\n",
       "      <td>2</td>\n",
       "      <td>good_cond</td>\n",
       "      <td>0</td>\n",
       "      <td>0</td>\n",
       "      <td>...</td>\n",
       "      <td>9</td>\n",
       "      <td>18</td>\n",
       "      <td>82</td>\n",
       "      <td>5.3</td>\n",
       "      <td>1013</td>\n",
       "      <td>31</td>\n",
       "      <td>9</td>\n",
       "      <td>105</td>\n",
       "      <td>5</td>\n",
       "      <td>Fall</td>\n",
       "    </tr>\n",
       "    <tr>\n",
       "      <th>4</th>\n",
       "      <td>2017-11-06</td>\n",
       "      <td>Lesbia/Camilo</td>\n",
       "      <td>cristina alvares solís</td>\n",
       "      <td>Si</td>\n",
       "      <td>Calala</td>\n",
       "      <td>transplanted</td>\n",
       "      <td>2</td>\n",
       "      <td>good_cond</td>\n",
       "      <td>0</td>\n",
       "      <td>0</td>\n",
       "      <td>...</td>\n",
       "      <td>9</td>\n",
       "      <td>18</td>\n",
       "      <td>82</td>\n",
       "      <td>5.3</td>\n",
       "      <td>1013</td>\n",
       "      <td>31</td>\n",
       "      <td>9</td>\n",
       "      <td>105</td>\n",
       "      <td>5</td>\n",
       "      <td>Fall</td>\n",
       "    </tr>\n",
       "    <tr>\n",
       "      <th>5</th>\n",
       "      <td>2017-11-06</td>\n",
       "      <td>Lesbia/Camilo</td>\n",
       "      <td>ana catalina garcía millón</td>\n",
       "      <td>Si</td>\n",
       "      <td>Papaya</td>\n",
       "      <td>transplanted</td>\n",
       "      <td>1</td>\n",
       "      <td>good_cond</td>\n",
       "      <td>0</td>\n",
       "      <td>0</td>\n",
       "      <td>...</td>\n",
       "      <td>9</td>\n",
       "      <td>18</td>\n",
       "      <td>82</td>\n",
       "      <td>5.3</td>\n",
       "      <td>1013</td>\n",
       "      <td>31</td>\n",
       "      <td>9</td>\n",
       "      <td>105</td>\n",
       "      <td>5</td>\n",
       "      <td>Fall</td>\n",
       "    </tr>\n",
       "  </tbody>\n",
       "</table>\n",
       "<p>6 rows × 40 columns</p>\n",
       "</div>"
      ],
      "text/plain": [
       "  Date visited        Auditor              Family visited Present?    Crop  \\\n",
       "0   2017-11-06  Lesbia/Camilo      karla galiano martínez       Si  Calala   \n",
       "1   2017-11-06  Lesbia/Camilo      karla galiano martínez       Si  Papaya   \n",
       "2   2017-11-06  Lesbia/Camilo      claudia flavia arévalo       Si  Calala   \n",
       "3   2017-11-06  Lesbia/Camilo      cristina alvares solís       Si  Papaya   \n",
       "4   2017-11-06  Lesbia/Camilo      cristina alvares solís       Si  Calala   \n",
       "5   2017-11-06  Lesbia/Camilo  ana catalina garcía millón       Si  Papaya   \n",
       "\n",
       "  Seedling_or_transplanted  % Disease  Condition Plague  \\\n",
       "0             transplanted          3  good_cond      0   \n",
       "1             transplanted          2  good_cond      0   \n",
       "2             transplanted          3  good_cond      0   \n",
       "3             transplanted          2  good_cond      0   \n",
       "4             transplanted          2  good_cond      0   \n",
       "5             transplanted          1  good_cond      0   \n",
       "\n",
       "  Organic recommendation  ... WindGustKmph cloudcover  humidity  precipMM  \\\n",
       "0                      0  ...            9         18        82       5.3   \n",
       "1                      0  ...            9         18        82       5.3   \n",
       "2                      0  ...            9         18        82       5.3   \n",
       "3                      0  ...            9         18        82       5.3   \n",
       "4                      0  ...            9         18        82       5.3   \n",
       "5                      0  ...            9         18        82       5.3   \n",
       "\n",
       "  pressure tempC  visibility  winddirDegree  windspeedKmph  Season visited  \n",
       "0     1013    31           9            105              5            Fall  \n",
       "1     1013    31           9            105              5            Fall  \n",
       "2     1013    31           9            105              5            Fall  \n",
       "3     1013    31           9            105              5            Fall  \n",
       "4     1013    31           9            105              5            Fall  \n",
       "5     1013    31           9            105              5            Fall  \n",
       "\n",
       "[6 rows x 40 columns]"
      ]
     },
     "execution_count": 176,
     "metadata": {},
     "output_type": "execute_result"
    }
   ],
   "source": [
    "#df = pd.read_csv('/content/gdrive/MyDrive/VL_farm.csv') # read Kelly and Lauren's updated data\n",
    "\n",
    "df= pd.read_csv('VL_farm_geo_w.csv', index_col=0)\n",
    "\n",
    "\n",
    "# translate Spanish to English\n",
    "def season(month):\n",
    "    if month == 12 or month == 1 or month == 2:\n",
    "        return \"Winter\"\n",
    "    elif month == 3 or month == 4 or month == 5:\n",
    "        return \"Spring\"\n",
    "    elif month == 6 or month == 7 or month == 8:\n",
    "        return \"Summer\"\n",
    "    elif month == 9 or month == 10 or month == 11:\n",
    "        return \"Fall\"\n",
    "df[\"Season visited\"] = df[\"Month visited\"].apply(season)\n",
    "\n",
    "\n",
    "df['Condition'] = df['Condition'].replace(['Excel'], 'Excelente')\n",
    "df['Condition'] = df['Condition'].replace(['Excelente'], \"excellent_cond\")\n",
    "df['Condition'] = df['Condition'].replace(['Promedio'], 'average_cond')\n",
    "df['Condition'] = df['Condition'].replace(['Bueno'], 'good_cond')\n",
    "df['Condition'] = df['Condition'].replace(['Pobre'], 'poor_cond')\n",
    "df['Condition'] = df['Condition'].replace(['crisopa'], 'bad?_cond')\n",
    "\n",
    "df['Condition'] = df['Condition'].replace([0], 'N/A_cond')\n",
    "df['Seedling_or_transplanted'].unique()\n",
    "df['Seedling_or_transplanted'] = df['Seedling_or_transplanted'].replace(['Almácigo'], 'seedling')\n",
    "df['Seedling_or_transplanted'] = df['Seedling_or_transplanted'].replace(['Transplantado'], 'transplanted')\n",
    "df['Seedling_or_transplanted'] = df['Seedling_or_transplanted'].replace(['Sin germinar'], 'transplanted')\n",
    "df['Seedling_or_transplanted'] = df['Seedling_or_transplanted'].replace(['Fructificacion'], 'fruitification')\n",
    "df['Seedling_or_transplanted'] = df['Seedling_or_transplanted'].replace(['Produccion'], 'production')\n",
    "df\n",
    "\n",
    "#drop rows with unsual values \n",
    "df = df[df.Condition != 'bad?_cond']\n",
    "df = df[df['Seedling_or_transplanted'] != 'fruitification']\n",
    "df = df[df['Seedling_or_transplanted'] != 'production']\n",
    "\n",
    "\n",
    "# 'Bueno'== good, '0'== null, 'Promedio'==average, 'Excelente'==excellent, 'Pobre'==poor, 'Excel', 'crisopa'\n",
    "\n",
    "# preview of the data\n",
    "hide_location = (df.columns != \"Region\") & (df.columns != \"Community\") & (df.columns != \"location\") & (df.columns != \"longitude\") & (df.columns !=\"latitude\")\n",
    "df.loc[0:5, hide_location]"
   ]
  },
  {
   "cell_type": "code",
   "execution_count": 177,
   "metadata": {
    "colab": {
     "base_uri": "https://localhost:8080/"
    },
    "id": "cy91R3oHZAjq",
    "outputId": "9d6ef141-24f6-4c92-ec87-c7b46c9b9572"
   },
   "outputs": [
    {
     "data": {
      "text/plain": [
       "(6741, 45)"
      ]
     },
     "execution_count": 177,
     "metadata": {},
     "output_type": "execute_result"
    }
   ],
   "source": [
    "df.shape"
   ]
  },
  {
   "cell_type": "markdown",
   "metadata": {
    "id": "2kVIXIApT2AH"
   },
   "source": [
    "### Data Preview\n",
    "\n",
    "Looking at ordinal variable Crop Condition and % Illness"
   ]
  },
  {
   "cell_type": "code",
   "execution_count": 178,
   "metadata": {
    "colab": {
     "base_uri": "https://localhost:8080/",
     "height": 360
    },
    "id": "YFOt8poXfWZG",
    "outputId": "821dfc0d-561f-4e71-f72a-5a543ea3686d"
   },
   "outputs": [
    {
     "data": {
      "image/png": "[encoded data removed]",
      "text/plain": [
       "<Figure size 432x288 with 1 Axes>"
      ]
     },
     "metadata": {
      "needs_background": "light"
     },
     "output_type": "display_data"
    }
   ],
   "source": [
    "\n",
    "# 0 = No entry \n",
    "\n",
    "df['Condition'].value_counts().plot(kind='bar')\n",
    "plt.title(\"Overview of condition of all the crops\")\n",
    "plt.ylabel(\"Count\")\n",
    "plt.xlabel(\"Condition\");"
   ]
  },
  {
   "cell_type": "code",
   "execution_count": 179,
   "metadata": {
    "colab": {
     "base_uri": "https://localhost:8080/",
     "height": 349
    },
    "id": "E-xPxl5V1U-E",
    "outputId": "043ad014-765f-41b6-e697-6f612a76f44b"
   },
   "outputs": [
    {
     "data": {
      "image/png": "[encoded data removed]",
      "text/plain": [
       "<Figure size 720x360 with 1 Axes>"
      ]
     },
     "metadata": {
      "needs_background": "light"
     },
     "output_type": "display_data"
    }
   ],
   "source": [
    "plt.figure(figsize=(10,5))\n",
    "\n",
    "dsh = sns.lineplot(x=\"Month visited\", y=\"% Disease\"\n",
    "             ,data=df)\n",
    "plt.title(\"% Disease of all the crops in each month of a year\");"
   ]
  },
  {
   "cell_type": "code",
   "execution_count": 180,
   "metadata": {
    "colab": {
     "base_uri": "https://localhost:8080/",
     "height": 364
    },
    "id": "tNmqX6GRq-fZ",
    "outputId": "81cd5abe-839b-4179-be46-5068f1a7d5bc"
   },
   "outputs": [
    {
     "data": {
      "image/png": "[encoded data removed]",
      "text/plain": [
       "<Figure size 432x288 with 1 Axes>"
      ]
     },
     "metadata": {
      "needs_background": "light"
     },
     "output_type": "display_data"
    }
   ],
   "source": [
    "plt.title(\"Count of types of crops\")\n",
    "plt.xlabel(\"Crop type\")\n",
    "plt.ylabel(\"Count\")\n",
    "df['Type'].value_counts().plot(kind='bar');"
   ]
  },
  {
   "cell_type": "code",
   "execution_count": 181,
   "metadata": {
    "colab": {
     "base_uri": "https://localhost:8080/",
     "height": 433
    },
    "id": "DdZCfBc5rIfx",
    "outputId": "325102ee-73e2-4cf4-b113-97352143c69f"
   },
   "outputs": [
    {
     "name": "stdout",
     "output_type": "stream",
     "text": [
      "Crops to predict:  42\n"
     ]
    },
    {
     "data": {
      "image/png": "[encoded data removed]",
      "text/plain": [
       "<Figure size 1080x360 with 1 Axes>"
      ]
     },
     "metadata": {
      "needs_background": "light"
     },
     "output_type": "display_data"
    }
   ],
   "source": [
    "plt.figure(figsize=(15, 5))\n",
    "plt.title(\"Count of each crop type\")\n",
    "plt.xlabel(\"Specific crop\")\n",
    "plt.ylabel(\"Count\")\n",
    "ax = df['Crop'].value_counts().plot(kind='bar')\n",
    "#ax.set_xticks(df['Crop'].value_counts().values)\n",
    ";\n",
    "print('Crops to predict: ' , df['Crop'].nunique())"
   ]
  },
  {
   "cell_type": "markdown",
   "metadata": {
    "id": "BomMpv54W3Na"
   },
   "source": [
    "## ⚙️ Feature Engineering\n",
    "\n",
    "This step determines which variables are not relevant for the model (using correlations, interview with staff, etc).\n",
    "\n",
    "\n"
   ]
  },
  {
   "cell_type": "markdown",
   "metadata": {
    "id": "ntbL7Vo2tleX"
   },
   "source": [
    "### Add Additional Variables"
   ]
  },
  {
   "cell_type": "code",
   "execution_count": 182,
   "metadata": {
    "id": "kARG1zdC2H-2"
   },
   "outputs": [],
   "source": [
    "# Combined Wellness metric using % Illness and Condition\n",
    "\n",
    "def condition_percentage (row):\n",
    "   if row['Condition'] == 'excellent_cond' :\n",
    "      return 1\n",
    "   if row['Condition'] == 'good_cond' :\n",
    "      return .90\n",
    "   if row['Condition'] == 'average_cond':\n",
    "      return .80\n",
    "   if row['Condition']  == 'poor_cond':\n",
    "      return .70\n",
    "   if row['Condition'] == '0':\n",
    "      return 1\n",
    "   return .80\n",
    "\n",
    "def condition_wellness_columns(df):\n",
    "    df['Percent_Condition'] = df.apply(lambda row: condition_percentage(row), axis=1)\n",
    "    df['Percent_wellness'] = 100 - df['% Disease']\n",
    "    df['Wellness_Condition'] = df['Percent_wellness'] * df['Percent_Condition']\n",
    "    return df"
   ]
  },
  {
   "cell_type": "code",
   "execution_count": 183,
   "metadata": {
    "id": "20nlxXb9Pu8Z"
   },
   "outputs": [],
   "source": [
    "df = condition_wellness_columns(df)"
   ]
  },
  {
   "cell_type": "code",
   "execution_count": 184,
   "metadata": {
    "id": "lSsD-5qV6ouJ"
   },
   "outputs": [],
   "source": [
    "df['Crop'] = df['Crop'].replace(['Calabasa'], 'Calabaza')\n",
    "df['Crop'] = df['Crop'].replace(['verengena', 'verenjena'], 'bad?_cond')"
   ]
  },
  {
   "cell_type": "code",
   "execution_count": 185,
   "metadata": {
    "colab": {
     "base_uri": "https://localhost:8080/",
     "height": 1000
    },
    "id": "wgHfmpdUzUtj",
    "outputId": "1d305040-8264-4d93-f0e2-b805439e9b74"
   },
   "outputs": [
    {
     "data": {
      "text/html": [
       "<div>\n",
       "<style scoped>\n",
       "    .dataframe tbody tr th:only-of-type {\n",
       "        vertical-align: middle;\n",
       "    }\n",
       "\n",
       "    .dataframe tbody tr th {\n",
       "        vertical-align: top;\n",
       "    }\n",
       "\n",
       "    .dataframe thead th {\n",
       "        text-align: right;\n",
       "    }\n",
       "</style>\n",
       "<table border=\"1\" class=\"dataframe\">\n",
       "  <thead>\n",
       "    <tr style=\"text-align: right;\">\n",
       "      <th></th>\n",
       "      <th>Region</th>\n",
       "    </tr>\n",
       "    <tr>\n",
       "      <th>Crop</th>\n",
       "      <th></th>\n",
       "    </tr>\n",
       "  </thead>\n",
       "  <tbody>\n",
       "    <tr>\n",
       "      <th>Ayote</th>\n",
       "      <td>331</td>\n",
       "    </tr>\n",
       "    <tr>\n",
       "      <th>Calabaza</th>\n",
       "      <td>2</td>\n",
       "    </tr>\n",
       "    <tr>\n",
       "      <th>Calala</th>\n",
       "      <td>100</td>\n",
       "    </tr>\n",
       "    <tr>\n",
       "      <th>Camote</th>\n",
       "      <td>28</td>\n",
       "    </tr>\n",
       "    <tr>\n",
       "      <th>Caña</th>\n",
       "      <td>1</td>\n",
       "    </tr>\n",
       "    <tr>\n",
       "      <th>Caña de azucar</th>\n",
       "      <td>1</td>\n",
       "    </tr>\n",
       "    <tr>\n",
       "      <th>Cebolla</th>\n",
       "      <td>284</td>\n",
       "    </tr>\n",
       "    <tr>\n",
       "      <th>Chile</th>\n",
       "      <td>33</td>\n",
       "    </tr>\n",
       "    <tr>\n",
       "      <th>Chile jalapeño</th>\n",
       "      <td>1</td>\n",
       "    </tr>\n",
       "    <tr>\n",
       "      <th>Chile..</th>\n",
       "      <td>1</td>\n",
       "    </tr>\n",
       "    <tr>\n",
       "      <th>Chiltoma</th>\n",
       "      <td>1320</td>\n",
       "    </tr>\n",
       "    <tr>\n",
       "      <th>Frijol alacin</th>\n",
       "      <td>1</td>\n",
       "    </tr>\n",
       "    <tr>\n",
       "      <th>Frijol de vara</th>\n",
       "      <td>662</td>\n",
       "    </tr>\n",
       "    <tr>\n",
       "      <th>Frijol rojo</th>\n",
       "      <td>5</td>\n",
       "    </tr>\n",
       "    <tr>\n",
       "      <th>Granadilla</th>\n",
       "      <td>13</td>\n",
       "    </tr>\n",
       "    <tr>\n",
       "      <th>Guayaba</th>\n",
       "      <td>65</td>\n",
       "    </tr>\n",
       "    <tr>\n",
       "      <th>Jamaica</th>\n",
       "      <td>18</td>\n",
       "    </tr>\n",
       "    <tr>\n",
       "      <th>Maiz</th>\n",
       "      <td>276</td>\n",
       "    </tr>\n",
       "    <tr>\n",
       "      <th>Melon</th>\n",
       "      <td>161</td>\n",
       "    </tr>\n",
       "    <tr>\n",
       "      <th>None</th>\n",
       "      <td>1</td>\n",
       "    </tr>\n",
       "    <tr>\n",
       "      <th>Papaya</th>\n",
       "      <td>670</td>\n",
       "    </tr>\n",
       "    <tr>\n",
       "      <th>Pepino</th>\n",
       "      <td>278</td>\n",
       "    </tr>\n",
       "    <tr>\n",
       "      <th>Pina</th>\n",
       "      <td>42</td>\n",
       "    </tr>\n",
       "    <tr>\n",
       "      <th>Pipian</th>\n",
       "      <td>343</td>\n",
       "    </tr>\n",
       "    <tr>\n",
       "      <th>Plátano</th>\n",
       "      <td>600</td>\n",
       "    </tr>\n",
       "    <tr>\n",
       "      <th>Rabano</th>\n",
       "      <td>4</td>\n",
       "    </tr>\n",
       "    <tr>\n",
       "      <th>Remolacha</th>\n",
       "      <td>4</td>\n",
       "    </tr>\n",
       "    <tr>\n",
       "      <th>Repollo</th>\n",
       "      <td>6</td>\n",
       "    </tr>\n",
       "    <tr>\n",
       "      <th>Rábano</th>\n",
       "      <td>15</td>\n",
       "    </tr>\n",
       "    <tr>\n",
       "      <th>Sandia</th>\n",
       "      <td>208</td>\n",
       "    </tr>\n",
       "    <tr>\n",
       "      <th>Sandia y melon</th>\n",
       "      <td>1</td>\n",
       "    </tr>\n",
       "    <tr>\n",
       "      <th>Tomate</th>\n",
       "      <td>775</td>\n",
       "    </tr>\n",
       "    <tr>\n",
       "      <th>Trigo</th>\n",
       "      <td>1</td>\n",
       "    </tr>\n",
       "    <tr>\n",
       "      <th>Verengena</th>\n",
       "      <td>14</td>\n",
       "    </tr>\n",
       "    <tr>\n",
       "      <th>Verenjena</th>\n",
       "      <td>7</td>\n",
       "    </tr>\n",
       "    <tr>\n",
       "      <th>Verngena</th>\n",
       "      <td>1</td>\n",
       "    </tr>\n",
       "    <tr>\n",
       "      <th>Yuca</th>\n",
       "      <td>461</td>\n",
       "    </tr>\n",
       "    <tr>\n",
       "      <th>Zanahoria</th>\n",
       "      <td>3</td>\n",
       "    </tr>\n",
       "    <tr>\n",
       "      <th>bad?_cond</th>\n",
       "      <td>3</td>\n",
       "    </tr>\n",
       "    <tr>\n",
       "      <th>zanahoria</th>\n",
       "      <td>1</td>\n",
       "    </tr>\n",
       "  </tbody>\n",
       "</table>\n",
       "</div>"
      ],
      "text/plain": [
       "                Region\n",
       "Crop                  \n",
       "Ayote              331\n",
       "Calabaza             2\n",
       "Calala             100\n",
       "Camote              28\n",
       "Caña                 1\n",
       "Caña de azucar       1\n",
       "Cebolla            284\n",
       "Chile               33\n",
       "Chile jalapeño       1\n",
       "Chile..              1\n",
       "Chiltoma          1320\n",
       "Frijol alacin        1\n",
       "Frijol de vara     662\n",
       "Frijol rojo          5\n",
       "Granadilla          13\n",
       "Guayaba             65\n",
       "Jamaica             18\n",
       "Maiz               276\n",
       "Melon              161\n",
       "None                 1\n",
       "Papaya             670\n",
       "Pepino             278\n",
       "Pina                42\n",
       "Pipian             343\n",
       "Plátano            600\n",
       "Rabano               4\n",
       "Remolacha            4\n",
       "Repollo              6\n",
       "Rábano              15\n",
       "Sandia             208\n",
       "Sandia y melon       1\n",
       "Tomate             775\n",
       "Trigo                1\n",
       "Verengena           14\n",
       "Verenjena            7\n",
       "Verngena             1\n",
       "Yuca               461\n",
       "Zanahoria            3\n",
       "bad?_cond            3\n",
       "zanahoria            1"
      ]
     },
     "execution_count": 185,
     "metadata": {},
     "output_type": "execute_result"
    }
   ],
   "source": [
    "# For each crop, \n",
    "df1 = df[['Region', 'Crop']]\n",
    "df1.groupby(['Crop']).count()"
   ]
  },
  {
   "cell_type": "code",
   "execution_count": 186,
   "metadata": {
    "id": "rvg0Lcg4XhhU"
   },
   "outputs": [],
   "source": [
    "# drop crops with only 1 count\n",
    "df1 = df1.drop(df1.index[[4173, 5141, 2249, 6539, 4317, 3817, 6403, 5476, 311, 6697, 3002, 2908, 4494]])"
   ]
  },
  {
   "cell_type": "markdown",
   "metadata": {
    "id": "mgl81SS5pzCM"
   },
   "source": [
    "### Scoring System"
   ]
  },
  {
   "cell_type": "code",
   "execution_count": 187,
   "metadata": {
    "id": "w69dU-4U-iLW"
   },
   "outputs": [],
   "source": [
    "class ScoreResult:\n",
    "    def __init__(\n",
    "        self, \n",
    "        comp_scores, \n",
    "        cond_scores, \n",
    "        per_dis_scores, \n",
    "        reg_cond_scores, \n",
    "        reg_per_dis_scores, \n",
    "        com_cond_scores, \n",
    "        com_per_dis_scores,\n",
    "        type_comp_scores,\n",
    "        type_cond_scores,\n",
    "        type_per_dis_scores,\n",
    "        type_reg_cond_scores,\n",
    "        type_reg_per_dis_scores,\n",
    "        type_com_cond_scores,\n",
    "        type_com_per_dis_scores,\n",
    "        crops,\n",
    "        types\n",
    "    ):\n",
    "        self.comp_scores = comp_scores\n",
    "        self.cond_scores = cond_scores\n",
    "        self.per_dis_scores = per_dis_scores\n",
    "        self.reg_cond_scores = reg_cond_scores\n",
    "        self.reg_dis_scores = reg_per_dis_scores\n",
    "        self.com_cond_scores = com_cond_scores\n",
    "        self.com_dis_scores = com_per_dis_scores\n",
    "        self.type_comp_scores = type_comp_scores\n",
    "        self.type_cond_scores = type_cond_scores\n",
    "        self.type_per_dis_scores = type_per_dis_scores\n",
    "        self.type_reg_cond_scores = type_reg_cond_scores\n",
    "        self.type_reg_dis_scores = type_reg_per_dis_scores\n",
    "        self.type_com_cond_scores = type_com_cond_scores\n",
    "        self.type_com_dis_scores = type_com_per_dis_scores\n",
    "        self.crops = crops\n",
    "        self.types = types\n",
    "        \n",
    "    def get_best_composite(self, n=None):\n",
    "        if n == None:\n",
    "            n = len(self.crops)\n",
    "        crops = self.crops.copy()\n",
    "        crops.sort(key=lambda x: -self.comp_scores[x])\n",
    "        return crops[:n]\n",
    "    \n",
    "    def get_best_region(self, n=None):\n",
    "        if n == None:\n",
    "            n = len(self.crops)\n",
    "        crops = self.crops.copy()\n",
    "        crops.sort(key=lambda x: -(self.reg_cond_scores[x] + self.reg_dis_scores[x]))\n",
    "        return crops[:n]\n",
    "    \n",
    "    def get_best_community(self, n=None):\n",
    "        if n == None:\n",
    "            n = len(self.crops)\n",
    "        crops = self.crops.copy()\n",
    "        crops.sort(key=lambda x: -(self.com_cond_scores[x] + self.com_dis_scores[x]))\n",
    "        return crops[:n]\n",
    "    \n",
    "    def get_best_type_composite(self, n=None):\n",
    "        if n == None:\n",
    "            n = len(self.types)\n",
    "        types = self.types.copy()\n",
    "        types.sort(key=lambda x: -self.type_comp_scores[x])\n",
    "        return types[:n]\n",
    "    \n",
    "    def get_best_type_region(self, n=None):\n",
    "        if n == None:\n",
    "            n = len(self.types)\n",
    "        types = self.types.copy()\n",
    "        types.sort(key=lambda x: -(self.type_reg_cond_scores[x] + self.type_reg_dis_scores[x]))\n",
    "        return types[:n]\n",
    "    \n",
    "    def get_best_type_community(self, n=None):\n",
    "        if n == None:\n",
    "            n = len(self.types)\n",
    "        types = self.types.copy()\n",
    "        types.sort(key=lambda x: -(self.type_com_cond_scores[x] + self.type_com_dis_scores[x]))\n",
    "        return types[:n]\n",
    "        \n",
    "def normalize(d, target=1.0):\n",
    "    raw = sum(d.values())\n",
    "    factor = target/raw\n",
    "    return {key:value*factor for key,value in d.items()}\n",
    "\n",
    "def init_score(df,  \n",
    "               crops=None, \n",
    "               types=None, \n",
    "               regions=None, \n",
    "               communities=None, \n",
    "               conds = None,\n",
    "               cond_weights={\n",
    "                   \"good_cond\": 1, \n",
    "                   \"Bueno\" : 1,\n",
    "                   \"excellent_cond\": 2, \n",
    "                   \"Excelente\": 2,\n",
    "                   \"Excel\": 2,\n",
    "                   \"average_cond\": -1, \n",
    "                   \"Promedio\": -1,\n",
    "                   \"poor_cond\": -2, \n",
    "                   \"Pobre\": -2,\n",
    "                   \"crisopa\": -2,\n",
    "                   0: 0, \n",
    "                   '0': 0}):\n",
    "    if crops == None:\n",
    "        crops = list(df[\"Crop\"].unique())\n",
    "    if regions == None:\n",
    "        regions = list(df[\"Region\"].unique())\n",
    "    if types == None:\n",
    "        types = list(df[\"Type\"].unique())\n",
    "    if communities == None:\n",
    "        communities = list(df[\"Community\"].unique())\n",
    "    if conds == None:\n",
    "        conds = list(df[\"Condition\"].unique())\n",
    "        \n",
    "        \n",
    "    def score(region=None, community=None):\n",
    "        if region != None and region not in regions:\n",
    "            raise ValueError(f\"region is not valid, valid inputs include: {', '.join(regions)}\")\n",
    "        if community != None and community not in communities:\n",
    "            raise ValueError(f\"community is not valid, valid inputs include: {', '.join(communities)}\")\n",
    "        \n",
    "        comp_scores = dict.fromkeys(crops, 0)\n",
    "        cond_scores = dict.fromkeys(crops, 0)\n",
    "        per_dis_scores = dict.fromkeys(crops, 0)\n",
    "        \n",
    "        reg_cond_scores = dict.fromkeys(crops, 0)\n",
    "        reg_per_dis_scores = dict.fromkeys(crops, 0)\n",
    "        \n",
    "        com_cond_scores = dict.fromkeys(crops, 0)\n",
    "        com_per_dis_scores = dict.fromkeys(crops, 0)\n",
    "        \n",
    "        for crop in crops:\n",
    "            cond_total = 0\n",
    "            n = 0\n",
    "            crop_df = df[df[\"Crop\"] == crop]\n",
    "            cond_counts = crop_df[\"Condition\"].value_counts().to_dict()\n",
    "            for cond in conds:\n",
    "                if cond in cond_counts:\n",
    "                    cond_total += cond_counts[cond] * cond_weights[cond]\n",
    "                    n += cond_counts[cond]\n",
    "            if n == 0:\n",
    "                cond_scores[crop] = 0\n",
    "            else:\n",
    "                cond_scores[crop] = cond_total / n\n",
    "            per_dis_scores[crop] = 100 - crop_df[\"% Disease\"].mean()\n",
    "        cond_scores = normalize(cond_scores)\n",
    "        per_dis_scores = normalize(per_dis_scores)\n",
    "        \n",
    "        if region != None:\n",
    "            region_df = df[df[\"Region\"] == region]\n",
    "            for crop in crops:\n",
    "                cond_total = 0\n",
    "                n = 0\n",
    "                crop_df = region_df[region_df[\"Crop\"] == crop]\n",
    "                cond_counts = crop_df[\"Condition\"].value_counts().to_dict()\n",
    "                for cond in conds:\n",
    "                    if cond in cond_counts:\n",
    "                        cond_total += cond_counts[cond] * cond_weights[cond]\n",
    "                        n += cond_counts[cond]\n",
    "                if n == 0:\n",
    "                    reg_cond_scores[crop] = 0\n",
    "                else:\n",
    "                    reg_cond_scores[crop] = cond_total / n\n",
    "                if isinstance(100 - crop_df[\"% Disease\"].mean(), np.float64):\n",
    "                    reg_per_dis_scores[crop] = 100 - crop_df[\"% Disease\"].mean()\n",
    "                else:\n",
    "                    reg_per_dis_scores[crop] = 0\n",
    "            reg_cond_scores = normalize(reg_cond_scores)\n",
    "            reg_per_dis_scores = normalize(reg_per_dis_scores)\n",
    "                \n",
    "        if community != None:\n",
    "            com_df = df[df[\"Community\"] == community]\n",
    "            for crop in crops:\n",
    "                cond_total = 0\n",
    "                n = 0\n",
    "                crop_df = com_df[com_df[\"Crop\"] == crop]\n",
    "                cond_counts = crop_df[\"Condition\"].value_counts().to_dict()\n",
    "                for cond in conds:\n",
    "                    if cond in cond_counts:\n",
    "                        cond_total += cond_counts[cond] * cond_weights[cond]\n",
    "                        n += cond_counts[cond]\n",
    "                if n == 0:\n",
    "                    com_cond_scores[crop] = 0\n",
    "                else:\n",
    "                    com_cond_scores[crop] = cond_total / n\n",
    "                if isinstance(100 - crop_df[\"% Disease\"].mean(), np.float64):\n",
    "                    com_per_dis_scores[crop] = 100 - crop_df[\"% Disease\"].mean()\n",
    "                else:\n",
    "                    com_per_dis_scores[crop] = 0\n",
    "            com_cond_scores = normalize(com_cond_scores)\n",
    "            com_per_dis_scores = normalize(com_per_dis_scores)\n",
    "        \n",
    "        for crop in crops:\n",
    "            comp_scores[crop] += cond_scores[crop] + per_dis_scores[crop]\n",
    "            if region != None:\n",
    "                comp_scores[crop] += reg_cond_scores[crop] + reg_per_dis_scores[crop]\n",
    "            if community != None:\n",
    "                comp_scores[crop] += com_cond_scores[crop] + com_per_dis_scores[crop]\n",
    "        comp_scores = normalize(comp_scores)\n",
    "        \n",
    "        \n",
    "        type_comp_scores = dict.fromkeys(types, 0)\n",
    "        type_cond_scores = dict.fromkeys(types, 0)\n",
    "        type_per_dis_scores = dict.fromkeys(types, 0)\n",
    "        \n",
    "        type_reg_cond_scores = dict.fromkeys(types, 0)\n",
    "        type_reg_per_dis_scores = dict.fromkeys(types, 0)\n",
    "        \n",
    "        type_com_cond_scores = dict.fromkeys(types, 0)\n",
    "        type_com_per_dis_scores = dict.fromkeys(types, 0)\n",
    "        \n",
    "        for _type in types:\n",
    "            cond_total = 0\n",
    "            n = 0\n",
    "            type_df = df[df[\"Type\"] == _type]\n",
    "            cond_counts = type_df[\"Condition\"].value_counts().to_dict()\n",
    "            for cond in conds:\n",
    "                if cond in cond_counts:\n",
    "                    cond_total += cond_counts[cond] * cond_weights[cond]\n",
    "                    n += cond_counts[cond]\n",
    "            if n == 0:\n",
    "                type_cond_scores[_type] = 0\n",
    "            else:\n",
    "                type_cond_scores[_type] = cond_total / n\n",
    "            type_per_dis_scores[_type] = 100 - type_df[\"% Disease\"].mean()\n",
    "        type_cond_scores = normalize(type_cond_scores)\n",
    "        type_per_dis_scores = normalize(type_per_dis_scores)\n",
    "        \n",
    "        if region != None:\n",
    "            region_df = df[df[\"Region\"] == region]\n",
    "            for _type in types:\n",
    "                cond_total = 0\n",
    "                n = 0\n",
    "                type_df = region_df[region_df[\"Type\"] == _type]\n",
    "                cond_counts = type_df[\"Condition\"].value_counts().to_dict()\n",
    "                for cond in conds:\n",
    "                    if cond in cond_counts:\n",
    "                        cond_total += cond_counts[cond] * cond_weights[cond]\n",
    "                        n += cond_counts[cond]\n",
    "                if n == 0:\n",
    "                    type_reg_cond_scores[_type] = 0\n",
    "                else:\n",
    "                    type_reg_cond_scores[_type] = cond_total / n\n",
    "                if isinstance(100 - type_df[\"% Disease\"].mean(), np.float64):\n",
    "                    type_reg_per_dis_scores[_type] = 100 - type_df[\"% Disease\"].mean()\n",
    "                else:\n",
    "                    type_reg_per_dis_scores[_type] = 0\n",
    "            type_reg_cond_scores = normalize(type_reg_cond_scores)\n",
    "            type_reg_per_dis_scores = normalize(type_reg_per_dis_scores)\n",
    "                \n",
    "        if community != None:\n",
    "            com_df = df[df[\"Community\"] == community]\n",
    "            for _type in types:\n",
    "                cond_total = 0\n",
    "                n = 0\n",
    "                type_df = com_df[com_df[\"Type\"] == _type]\n",
    "                cond_counts = type_df[\"Condition\"].value_counts().to_dict()\n",
    "                for cond in conds:\n",
    "                    if cond in cond_counts:\n",
    "                        cond_total += cond_counts[cond] * cond_weights[cond]\n",
    "                        n += cond_counts[cond]\n",
    "                if n == 0:\n",
    "                    type_com_cond_scores[_type] = 0\n",
    "                else:\n",
    "                    type_com_cond_scores[_type] = cond_total / n\n",
    "                if isinstance(100 - type_df[\"% Disease\"].mean(), np.float64):\n",
    "                    type_com_per_dis_scores[_type] = 100 - type_df[\"% Disease\"].mean()\n",
    "                else:\n",
    "                    type_com_per_dis_scores[_type] = 0\n",
    "            type_com_cond_scores = normalize(type_com_cond_scores)\n",
    "            type_com_per_dis_scores = normalize(type_com_per_dis_scores)\n",
    "        \n",
    "        for _type in types:\n",
    "            type_comp_scores[_type] += type_cond_scores[_type] + type_per_dis_scores[_type]\n",
    "            if region != None:\n",
    "                type_comp_scores[_type] += type_reg_cond_scores[_type] + type_reg_per_dis_scores[_type]\n",
    "            if community != None:\n",
    "                type_comp_scores[_type] += type_com_cond_scores[_type] + type_com_per_dis_scores[_type]\n",
    "        type_comp_scores = normalize(type_comp_scores)\n",
    "        \n",
    "        return ScoreResult(\n",
    "            comp_scores, \n",
    "            cond_scores, \n",
    "            per_dis_scores, \n",
    "            reg_cond_scores, \n",
    "            reg_per_dis_scores, \n",
    "            com_cond_scores, \n",
    "            com_per_dis_scores,\n",
    "            type_comp_scores,\n",
    "            type_cond_scores,\n",
    "            type_per_dis_scores,\n",
    "            type_reg_cond_scores,\n",
    "            type_reg_per_dis_scores,\n",
    "            type_com_cond_scores,\n",
    "            type_com_per_dis_scores,\n",
    "            crops,\n",
    "            types\n",
    "        )\n",
    "    \n",
    "    return score"
   ]
  },
  {
   "cell_type": "markdown",
   "metadata": {
    "id": "Jtkut-gJi8eF"
   },
   "source": [
    "## 🔥 Modeling"
   ]
  },
  {
   "cell_type": "markdown",
   "metadata": {
    "id": "Z42-HgxgvhiT"
   },
   "source": [
    "Leads: Adam & Chase\n",
    "\n",
    "#### Multiclass Classification \n",
    "Predicts crops with highest probability of success given features. Highest probability of success is defined by the observations of wellness metrics in crops given specific features. Preference for crops that have a higher wellness score are suitable for the season and location.\n",
    "\n",
    "##### Feature Columns Used Include:\n",
    "Predictors of interest are `Season`, `DewPointC`, `HeatIndexC`, `Region`\n",
    "\n",
    "Metrics \n",
    "- Weight on the features for the either the quality or illness\n",
    "- Make list from outputs, then aggregate lists\n",
    "\n",
    "- Composite score: \n",
    "  - average quality , average percent disease\n",
    "    - When modeling can get rid of crops with illness, bad quality \n",
    "  - Model that maps crops to expected percent disease , maps other conditions conditions with season and location ( average percent disease in different locations ) \n",
    "\n",
    "Tasks \n",
    "- Model for specific crop, output top 5 crops\n",
    "- Tune parameters in `xgboost`, possibly use gridsearch\n",
    "- Seedling based predictions\n",
    "- Predictions for 3 months down the line\n"
   ]
  },
  {
   "cell_type": "markdown",
   "metadata": {
    "id": "foi-Fe5kzYv7"
   },
   "source": [
    "### Pipeline for training, cross validation and test sets\n"
   ]
  },
  {
   "cell_type": "code",
   "execution_count": 188,
   "metadata": {
    "colab": {
     "base_uri": "https://localhost:8080/",
     "height": 111
    },
    "id": "wG7_PErlMjsf",
    "outputId": "9c641dcc-57e6-4115-bebd-faeea45cb997"
   },
   "outputs": [
    {
     "data": {
      "text/html": [
       "<div>\n",
       "<style scoped>\n",
       "    .dataframe tbody tr th:only-of-type {\n",
       "        vertical-align: middle;\n",
       "    }\n",
       "\n",
       "    .dataframe tbody tr th {\n",
       "        vertical-align: top;\n",
       "    }\n",
       "\n",
       "    .dataframe thead th {\n",
       "        text-align: right;\n",
       "    }\n",
       "</style>\n",
       "<table border=\"1\" class=\"dataframe\">\n",
       "  <thead>\n",
       "    <tr style=\"text-align: right;\">\n",
       "      <th></th>\n",
       "      <th>Region</th>\n",
       "      <th>Crop</th>\n",
       "      <th>Seedling_or_transplanted</th>\n",
       "      <th>% Disease</th>\n",
       "      <th>Condition</th>\n",
       "      <th>Plague</th>\n",
       "      <th>Organic recommendation</th>\n",
       "      <th>Chemical recommendation</th>\n",
       "      <th>Type</th>\n",
       "      <th>Month visited</th>\n",
       "      <th>...</th>\n",
       "      <th>pressure</th>\n",
       "      <th>tempC</th>\n",
       "      <th>visibility</th>\n",
       "      <th>winddirDegree</th>\n",
       "      <th>windspeedKmph</th>\n",
       "      <th>location</th>\n",
       "      <th>Season visited</th>\n",
       "      <th>Percent_Condition</th>\n",
       "      <th>Percent_wellness</th>\n",
       "      <th>Wellness_Condition</th>\n",
       "    </tr>\n",
       "  </thead>\n",
       "  <tbody>\n",
       "    <tr>\n",
       "      <th>0</th>\n",
       "      <td>Troilo</td>\n",
       "      <td>Calala</td>\n",
       "      <td>transplanted</td>\n",
       "      <td>3</td>\n",
       "      <td>good_cond</td>\n",
       "      <td>0</td>\n",
       "      <td>0</td>\n",
       "      <td>0</td>\n",
       "      <td>Fruit</td>\n",
       "      <td>11</td>\n",
       "      <td>...</td>\n",
       "      <td>1013</td>\n",
       "      <td>31</td>\n",
       "      <td>9</td>\n",
       "      <td>105</td>\n",
       "      <td>5</td>\n",
       "      <td>12.46%-87.0</td>\n",
       "      <td>Fall</td>\n",
       "      <td>0.9</td>\n",
       "      <td>97</td>\n",
       "      <td>87.3</td>\n",
       "    </tr>\n",
       "  </tbody>\n",
       "</table>\n",
       "<p>1 rows × 36 columns</p>\n",
       "</div>"
      ],
      "text/plain": [
       "   Region    Crop Seedling_or_transplanted  % Disease  Condition Plague  \\\n",
       "0  Troilo  Calala             transplanted          3  good_cond      0   \n",
       "\n",
       "  Organic recommendation Chemical recommendation   Type  Month visited  ...  \\\n",
       "0                      0                       0  Fruit             11  ...   \n",
       "\n",
       "   pressure  tempC  visibility  winddirDegree  windspeedKmph     location  \\\n",
       "0      1013     31           9            105              5  12.46%-87.0   \n",
       "\n",
       "   Season visited  Percent_Condition  Percent_wellness  Wellness_Condition  \n",
       "0            Fall                0.9                97                87.3  \n",
       "\n",
       "[1 rows x 36 columns]"
      ]
     },
     "execution_count": 188,
     "metadata": {},
     "output_type": "execute_result"
    }
   ],
   "source": [
    "# Drop unneeded columns\n",
    "drop_cols = [\"Date visited\", \"Auditor\", \"Family visited\", \"Present?\",\n",
    "             \"apienter\", \"date_time\", \"Community\", \"Year visited\",\n",
    "             \"moonrise\", \"moonset\", \"sunrise\", \"sunset\"]\n",
    "df = df.drop(drop_cols, axis = 1)\n",
    "\n",
    "df.head(1)"
   ]
  },
  {
   "cell_type": "code",
   "execution_count": 189,
   "metadata": {
    "id": "FxjlUhWgQkU8"
   },
   "outputs": [],
   "source": [
    "# One hot encoding\n",
    "\n",
    "# Questions for Elda:\n",
    "# Multiple spellings of same crop name\n",
    "# Should we drop \"Plague\"? Has 162 different unique values. 1-hot encode for now. Ask team as well\n",
    "# Should we drop organic and chemical recommendations? Has a lot of 0 values. First pass: include them (1-hot encode)\n",
    "# Keep \"Community\" or \"location\"? 1-hot encode either? Keep location (1-hot encode), drop \"Community\"\n",
    "# Keep condition and percent diseased? Keep these.\n",
    "\n",
    "df = df.join(pd.get_dummies(df[\"Season visited\"], prefix=\"Season\"), how = 'outer')\n",
    "df = df.join(pd.get_dummies(df[\"Condition\"], prefix=\"Condition\"), how = 'outer')\n",
    "df = df.join(pd.get_dummies(df[\"Region\"], prefix=\"Region\"), how= 'outer')\n",
    "# df = df.join(pd.get_dummies(df[\"Plague\"], prefix=\"Plague\"), how= 'outer')\n",
    "df = df.join(pd.get_dummies(df[\"location\"], prefix=\"Location\"), how = \"outer\")\n",
    "df = df.join(pd.get_dummies(df[\"Seedling_or_transplanted\"], prefix=\"Trans_or_seed\"), how = \"outer\")\n",
    "# df = df.join(pd.get_dummies(df[\"Organic recommendation\"], prefix=\"Org_rec\"), how = \"outer\")\n",
    "# df = df.join(pd.get_dummies(df[\"Chemical recommendation\"], prefix=\"Chem_rec\"), how = \"outer\")\n",
    "\n",
    "# Drop now one-hot encoded columns\n",
    "# df = df.drop([\"Season visited\", \"Condition\", \"Region\", \"Plague\", \"location\", \"Seedling_or_transplanted\", \"Organic recommendation\", \"Chemical recommendation\"], axis = 1)"
   ]
  },
  {
   "cell_type": "code",
   "execution_count": 190,
   "metadata": {
    "id": "4bwzwWJWSvtA"
   },
   "outputs": [],
   "source": [
    "# Split into training and testing sets and Oversample using SMOTE \n",
    "y = df[[\"Crop\"]].copy()\n",
    "X = df.drop([\"Crop\"], axis=1)\n",
    "\n",
    "X_train, X_test, y_train, y_test = train_test_split(X, y, test_size=0.2, shuffle=True)"
   ]
  },
  {
   "cell_type": "markdown",
   "metadata": {
    "id": "6DoeGasn_x6n"
   },
   "source": [
    "### Evaluating Based on Quality"
   ]
  },
  {
   "cell_type": "markdown",
   "metadata": {
    "id": "GBJmfkkthdIp"
   },
   "source": [
    "### Training the Model"
   ]
  },
  {
   "cell_type": "markdown",
   "metadata": {
    "id": "8t8rKu8SNdei"
   },
   "source": [
    "##### Featue Columns Used Include:\n",
    "Predictors of interest include:\n",
    "  - Weather: `DewPointC`, `HeatIndexC`, `WindChillC`, `sunHour`\n",
    "  - Season: `Season_Fall`, `Season_Spring`, `Season_Summer`, `Season_Winter`, `Month Visited`(?)\n",
    "  - Location Based: `Region_Goyena`, `Region_Troilo`, Location binary?"
   ]
  },
  {
   "cell_type": "code",
   "execution_count": 191,
   "metadata": {
    "id": "kExs0ROoB4hP"
   },
   "outputs": [],
   "source": [
    "predictors = df[['% Disease', 'Wellness_Condition', 'HeatIndexC', 'DewPointC', 'WindChillC', 'sunHour', 'Season_Fall', 'Season_Spring', 'Season_Summer', 'Season_Winter', 'Region_Goyena', 'Region_Troilo']]\n",
    "target = df['Type']"
   ]
  },
  {
   "cell_type": "code",
   "execution_count": 192,
   "metadata": {
    "id": "Zv0reYS1prAd"
   },
   "outputs": [],
   "source": [
    "from imblearn.over_sampling import RandomOverSampler \n",
    "from sklearn.model_selection import KFold\n",
    "from sklearn.utils import compute_class_weight\n"
   ]
  },
  {
   "cell_type": "code",
   "execution_count": 193,
   "metadata": {
    "colab": {
     "base_uri": "https://localhost:8080/"
    },
    "id": "OpSTw1XcAQ6B",
    "outputId": "0a5ba700-9b85-450c-b8e9-87e961de5481"
   },
   "outputs": [
    {
     "ename": "ValueError",
     "evalue": "Setting a random_state has no effect since shuffle is False. You should leave random_state to its default (None), or set shuffle=True.",
     "output_type": "error",
     "traceback": [
      "\u001b[0;31m---------------------------------------------------------------------------\u001b[0m",
      "\u001b[0;31mValueError\u001b[0m                                Traceback (most recent call last)",
      "\u001b[0;32m<ipython-input-193-766e145b2318>\u001b[0m in \u001b[0;36m<module>\u001b[0;34m\u001b[0m\n\u001b[1;32m      6\u001b[0m \u001b[0mX_test_norm\u001b[0m \u001b[0;34m=\u001b[0m \u001b[0mnorm\u001b[0m\u001b[0;34m.\u001b[0m\u001b[0mtransform\u001b[0m\u001b[0;34m(\u001b[0m\u001b[0mX_test\u001b[0m\u001b[0;34m)\u001b[0m\u001b[0;34m\u001b[0m\u001b[0;34m\u001b[0m\u001b[0m\n\u001b[1;32m      7\u001b[0m \u001b[0;34m\u001b[0m\u001b[0m\n\u001b[0;32m----> 8\u001b[0;31m \u001b[0mkf\u001b[0m \u001b[0;34m=\u001b[0m \u001b[0mKFold\u001b[0m\u001b[0;34m(\u001b[0m\u001b[0mn_splits\u001b[0m\u001b[0;34m=\u001b[0m\u001b[0;36m5\u001b[0m\u001b[0;34m,\u001b[0m \u001b[0mrandom_state\u001b[0m\u001b[0;34m=\u001b[0m\u001b[0;36m42\u001b[0m\u001b[0;34m)\u001b[0m\u001b[0;34m\u001b[0m\u001b[0;34m\u001b[0m\u001b[0m\n\u001b[0m\u001b[1;32m      9\u001b[0m \u001b[0;34m\u001b[0m\u001b[0m\n\u001b[1;32m     10\u001b[0m \u001b[0mclasses\u001b[0m \u001b[0;34m=\u001b[0m \u001b[0mnp\u001b[0m\u001b[0;34m.\u001b[0m\u001b[0munique\u001b[0m\u001b[0;34m(\u001b[0m\u001b[0mtarget\u001b[0m\u001b[0;34m)\u001b[0m\u001b[0;34m\u001b[0m\u001b[0;34m\u001b[0m\u001b[0m\n",
      "\u001b[0;32m~/opt/anaconda3/lib/python3.8/site-packages/sklearn/utils/validation.py\u001b[0m in \u001b[0;36minner_f\u001b[0;34m(*args, **kwargs)\u001b[0m\n\u001b[1;32m     61\u001b[0m             \u001b[0mextra_args\u001b[0m \u001b[0;34m=\u001b[0m \u001b[0mlen\u001b[0m\u001b[0;34m(\u001b[0m\u001b[0margs\u001b[0m\u001b[0;34m)\u001b[0m \u001b[0;34m-\u001b[0m \u001b[0mlen\u001b[0m\u001b[0;34m(\u001b[0m\u001b[0mall_args\u001b[0m\u001b[0;34m)\u001b[0m\u001b[0;34m\u001b[0m\u001b[0;34m\u001b[0m\u001b[0m\n\u001b[1;32m     62\u001b[0m             \u001b[0;32mif\u001b[0m \u001b[0mextra_args\u001b[0m \u001b[0;34m<=\u001b[0m \u001b[0;36m0\u001b[0m\u001b[0;34m:\u001b[0m\u001b[0;34m\u001b[0m\u001b[0;34m\u001b[0m\u001b[0m\n\u001b[0;32m---> 63\u001b[0;31m                 \u001b[0;32mreturn\u001b[0m \u001b[0mf\u001b[0m\u001b[0;34m(\u001b[0m\u001b[0;34m*\u001b[0m\u001b[0margs\u001b[0m\u001b[0;34m,\u001b[0m \u001b[0;34m**\u001b[0m\u001b[0mkwargs\u001b[0m\u001b[0;34m)\u001b[0m\u001b[0;34m\u001b[0m\u001b[0;34m\u001b[0m\u001b[0m\n\u001b[0m\u001b[1;32m     64\u001b[0m \u001b[0;34m\u001b[0m\u001b[0m\n\u001b[1;32m     65\u001b[0m             \u001b[0;31m# extra_args > 0\u001b[0m\u001b[0;34m\u001b[0m\u001b[0;34m\u001b[0m\u001b[0;34m\u001b[0m\u001b[0m\n",
      "\u001b[0;32m~/opt/anaconda3/lib/python3.8/site-packages/sklearn/model_selection/_split.py\u001b[0m in \u001b[0;36m__init__\u001b[0;34m(self, n_splits, shuffle, random_state)\u001b[0m\n\u001b[1;32m    426\u001b[0m     def __init__(self, n_splits=5, *, shuffle=False,\n\u001b[1;32m    427\u001b[0m                  random_state=None):\n\u001b[0;32m--> 428\u001b[0;31m         super().__init__(n_splits=n_splits, shuffle=shuffle,\n\u001b[0m\u001b[1;32m    429\u001b[0m                          random_state=random_state)\n\u001b[1;32m    430\u001b[0m \u001b[0;34m\u001b[0m\u001b[0m\n",
      "\u001b[0;32m~/opt/anaconda3/lib/python3.8/site-packages/sklearn/utils/validation.py\u001b[0m in \u001b[0;36minner_f\u001b[0;34m(*args, **kwargs)\u001b[0m\n\u001b[1;32m     61\u001b[0m             \u001b[0mextra_args\u001b[0m \u001b[0;34m=\u001b[0m \u001b[0mlen\u001b[0m\u001b[0;34m(\u001b[0m\u001b[0margs\u001b[0m\u001b[0;34m)\u001b[0m \u001b[0;34m-\u001b[0m \u001b[0mlen\u001b[0m\u001b[0;34m(\u001b[0m\u001b[0mall_args\u001b[0m\u001b[0;34m)\u001b[0m\u001b[0;34m\u001b[0m\u001b[0;34m\u001b[0m\u001b[0m\n\u001b[1;32m     62\u001b[0m             \u001b[0;32mif\u001b[0m \u001b[0mextra_args\u001b[0m \u001b[0;34m<=\u001b[0m \u001b[0;36m0\u001b[0m\u001b[0;34m:\u001b[0m\u001b[0;34m\u001b[0m\u001b[0;34m\u001b[0m\u001b[0m\n\u001b[0;32m---> 63\u001b[0;31m                 \u001b[0;32mreturn\u001b[0m \u001b[0mf\u001b[0m\u001b[0;34m(\u001b[0m\u001b[0;34m*\u001b[0m\u001b[0margs\u001b[0m\u001b[0;34m,\u001b[0m \u001b[0;34m**\u001b[0m\u001b[0mkwargs\u001b[0m\u001b[0;34m)\u001b[0m\u001b[0;34m\u001b[0m\u001b[0;34m\u001b[0m\u001b[0m\n\u001b[0m\u001b[1;32m     64\u001b[0m \u001b[0;34m\u001b[0m\u001b[0m\n\u001b[1;32m     65\u001b[0m             \u001b[0;31m# extra_args > 0\u001b[0m\u001b[0;34m\u001b[0m\u001b[0;34m\u001b[0m\u001b[0;34m\u001b[0m\u001b[0m\n",
      "\u001b[0;32m~/opt/anaconda3/lib/python3.8/site-packages/sklearn/model_selection/_split.py\u001b[0m in \u001b[0;36m__init__\u001b[0;34m(self, n_splits, shuffle, random_state)\u001b[0m\n\u001b[1;32m    288\u001b[0m \u001b[0;34m\u001b[0m\u001b[0m\n\u001b[1;32m    289\u001b[0m         \u001b[0;32mif\u001b[0m \u001b[0;32mnot\u001b[0m \u001b[0mshuffle\u001b[0m \u001b[0;32mand\u001b[0m \u001b[0mrandom_state\u001b[0m \u001b[0;32mis\u001b[0m \u001b[0;32mnot\u001b[0m \u001b[0;32mNone\u001b[0m\u001b[0;34m:\u001b[0m  \u001b[0;31m# None is the default\u001b[0m\u001b[0;34m\u001b[0m\u001b[0;34m\u001b[0m\u001b[0m\n\u001b[0;32m--> 290\u001b[0;31m             raise ValueError(\n\u001b[0m\u001b[1;32m    291\u001b[0m                 \u001b[0;34m'Setting a random_state has no effect since shuffle is '\u001b[0m\u001b[0;34m\u001b[0m\u001b[0;34m\u001b[0m\u001b[0m\n\u001b[1;32m    292\u001b[0m                 \u001b[0;34m'False. You should leave '\u001b[0m\u001b[0;34m\u001b[0m\u001b[0;34m\u001b[0m\u001b[0m\n",
      "\u001b[0;31mValueError\u001b[0m: Setting a random_state has no effect since shuffle is False. You should leave random_state to its default (None), or set shuffle=True."
     ]
    }
   ],
   "source": [
    "X_train, X_test, y_train, y_test = train_test_split(predictors, target, test_size=0.2, shuffle=True)\n",
    "\n",
    "# data normalization using MinMaxScaler (standardscaler decreases accuracy due to nongaussian distribution)\n",
    "norm = MinMaxScaler().fit(X_train)\n",
    "X_train_norm = norm.transform(X_train)\n",
    "X_test_norm = norm.transform(X_test)\n",
    "\n",
    "kf = KFold(n_splits=5, random_state=42)\n",
    "\n",
    "classes = np.unique(target)\n"
   ]
  },
  {
   "cell_type": "markdown",
   "metadata": {
    "id": "H28VT5yEsqKm"
   },
   "source": [
    "### Evaluation"
   ]
  },
  {
   "cell_type": "code",
   "execution_count": 194,
   "metadata": {
    "id": "F3iXbNMLRAIA"
   },
   "outputs": [],
   "source": [
    "#roc curves, confusion matrixes using cross validation and training sets"
   ]
  },
  {
   "cell_type": "code",
   "execution_count": 195,
   "metadata": {
    "colab": {
     "base_uri": "https://localhost:8080/",
     "height": 1000
    },
    "id": "bUj7ogy6d6nw",
    "outputId": "33af3574-4e07-4f87-df15-6693e1ceaa2b"
   },
   "outputs": [
    {
     "ename": "NameError",
     "evalue": "name 'kf' is not defined",
     "output_type": "error",
     "traceback": [
      "\u001b[0;31m---------------------------------------------------------------------------\u001b[0m",
      "\u001b[0;31mNameError\u001b[0m                                 Traceback (most recent call last)",
      "\u001b[0;32m<ipython-input-195-f63ed61efdf1>\u001b[0m in \u001b[0;36m<module>\u001b[0;34m\u001b[0m\n\u001b[1;32m     12\u001b[0m \u001b[0;34m\u001b[0m\u001b[0m\n\u001b[1;32m     13\u001b[0m \u001b[0;32mfor\u001b[0m \u001b[0mmodel\u001b[0m \u001b[0;32min\u001b[0m \u001b[0mmodels\u001b[0m\u001b[0;34m.\u001b[0m\u001b[0mitems\u001b[0m\u001b[0;34m(\u001b[0m\u001b[0;34m)\u001b[0m\u001b[0;34m:\u001b[0m\u001b[0;34m\u001b[0m\u001b[0;34m\u001b[0m\u001b[0m\n\u001b[0;32m---> 14\u001b[0;31m   \u001b[0;32mfor\u001b[0m \u001b[0mtrain_ind\u001b[0m\u001b[0;34m,\u001b[0m \u001b[0mval_ind\u001b[0m \u001b[0;32min\u001b[0m \u001b[0mkf\u001b[0m\u001b[0;34m.\u001b[0m\u001b[0msplit\u001b[0m\u001b[0;34m(\u001b[0m\u001b[0mX_train_norm\u001b[0m\u001b[0;34m,\u001b[0m \u001b[0my_train\u001b[0m\u001b[0;34m)\u001b[0m\u001b[0;34m:\u001b[0m\u001b[0;34m\u001b[0m\u001b[0;34m\u001b[0m\u001b[0m\n\u001b[0m\u001b[1;32m     15\u001b[0m     \u001b[0mX_tr\u001b[0m\u001b[0;34m,\u001b[0m \u001b[0my_tr\u001b[0m \u001b[0;34m=\u001b[0m \u001b[0mX_train_norm\u001b[0m\u001b[0;34m[\u001b[0m\u001b[0mtrain_ind\u001b[0m\u001b[0;34m]\u001b[0m\u001b[0;34m,\u001b[0m \u001b[0my_train\u001b[0m\u001b[0;34m.\u001b[0m\u001b[0miloc\u001b[0m\u001b[0;34m[\u001b[0m\u001b[0mtrain_ind\u001b[0m\u001b[0;34m]\u001b[0m\u001b[0;34m\u001b[0m\u001b[0;34m\u001b[0m\u001b[0m\n\u001b[1;32m     16\u001b[0m     \u001b[0mX_val\u001b[0m\u001b[0;34m,\u001b[0m \u001b[0my_val\u001b[0m \u001b[0;34m=\u001b[0m \u001b[0mX_train_norm\u001b[0m\u001b[0;34m[\u001b[0m\u001b[0mval_ind\u001b[0m\u001b[0;34m]\u001b[0m\u001b[0;34m,\u001b[0m \u001b[0my_train\u001b[0m\u001b[0;34m.\u001b[0m\u001b[0miloc\u001b[0m\u001b[0;34m[\u001b[0m\u001b[0mval_ind\u001b[0m\u001b[0;34m]\u001b[0m\u001b[0;34m\u001b[0m\u001b[0;34m\u001b[0m\u001b[0m\n",
      "\u001b[0;31mNameError\u001b[0m: name 'kf' is not defined"
     ]
    }
   ],
   "source": [
    "# Checking for America's Next Top Models\n",
    "# cv_results = {}\n",
    "# result_table = pd.DataFrame(columns=['classifiers', 'accuracy'])\n",
    "\n",
    "models = {'xgboost': XGBClassifier(random_state=42,),\n",
    "        'logistic regression': LogisticRegression(solver=\"lbfgs\", random_state=42, multi_class=\"multinomial\"),\n",
    "        'KNN': KNeighborsClassifier( n_neighbors=5),\n",
    "        'decision tree': DecisionTreeClassifier(random_state=42),\n",
    "        'random forest': RandomForestClassifier(random_state=42, n_estimators=100),\n",
    "        'SVC': svm.SVC(random_state=42),\n",
    "        'one vs rest': OneVsRestClassifier(SVC(random_state=42)) }\n",
    "\n",
    "for model in models.items():\n",
    "  for train_ind, val_ind in kf.split(X_train_norm, y_train):\n",
    "    X_tr, y_tr = X_train_norm[train_ind], y_train.iloc[train_ind]\n",
    "    X_val, y_val = X_train_norm[val_ind], y_train.iloc[val_ind]\n",
    "    #fit model in dictionary with values\n",
    "    model[1].fit(X_tr, y_tr)\n",
    "    #predict\n",
    "    y_pred = model[1].predict(X_val)\n",
    "\n",
    "  #testing metrics\n",
    "    precision = precision_score(y_val, y_pred, average='weighted')\n",
    "    accuracy = accuracy_score(y_val, y_pred)\n",
    "    f1 = f1_score(y_val, y_pred, average='weighted')\n",
    "\n",
    "    # cv_results[model[0]] = (accuracy)\n",
    "    cm = confusion_matrix(y_val,y_pred)\n",
    "\n",
    "  #roc auc scores\n",
    "  for each in classes:\n",
    "      fpr, tpr, thresholds = roc_curve(y_val,  \n",
    "                      model[1].predict_proba(X_val)[:,1], pos_label = each) \n",
    "\n",
    "      auroc = round(metrics.auc(fpr, tpr),2)\n",
    "      print(each,'--AUC--->',auroc)\n",
    "\n",
    "  print(model[0], '\\n', 'accuracy score:', accuracy, '\\n', 'f1 score: ', f1, '\\n precision: ', precision)\n",
    "  ax= plt.subplot()\n",
    "  sns.heatmap(cm, annot=True, fmt='g', ax=ax, cmap='Blues');  #annot=True to annotate cells, ftm='g' to disable scientific notation\n",
    "  # labels, title and ticks\n",
    "  ax.set_xlabel('Predicted Labels');ax.set_ylabel('True Labels'); \n",
    "  ax.set_title('Confusion Matrix'); \n",
    "  ax.xaxis.set_ticklabels(['Fruit', 'Grains', 'Legumes', 'Veg']); ax.yaxis.set_ticklabels(['Fruit', 'Grains', 'Legumes', 'Veg']);\n",
    "  plt.show()      \n",
    "  print('\\n') \n"
   ]
  },
  {
   "cell_type": "markdown",
   "metadata": {
    "id": "uZNH_VNnZx-t"
   },
   "source": [
    "#### Model Comparison"
   ]
  },
  {
   "cell_type": "code",
   "execution_count": 196,
   "metadata": {
    "colab": {
     "base_uri": "https://localhost:8080/"
    },
    "id": "5GzOO-HYPiJC",
    "outputId": "44db6bb6-7924-4686-952e-a3a396c97691"
   },
   "outputs": [
    {
     "name": "stdout",
     "output_type": "stream",
     "text": [
      "Requirement already satisfied: imblearn in ./opt/anaconda3/lib/python3.8/site-packages (0.0)\n",
      "Requirement already satisfied: imbalanced-learn in ./opt/anaconda3/lib/python3.8/site-packages (from imblearn) (0.8.0)\n",
      "Requirement already satisfied: scikit-learn>=0.24 in ./opt/anaconda3/lib/python3.8/site-packages (from imbalanced-learn->imblearn) (0.24.2)\n",
      "Requirement already satisfied: numpy>=1.13.3 in ./opt/anaconda3/lib/python3.8/site-packages (from imbalanced-learn->imblearn) (1.19.2)\n",
      "Requirement already satisfied: joblib>=0.11 in ./opt/anaconda3/lib/python3.8/site-packages (from imbalanced-learn->imblearn) (0.17.0)\n",
      "Requirement already satisfied: scipy>=0.19.1 in ./opt/anaconda3/lib/python3.8/site-packages (from imbalanced-learn->imblearn) (1.5.2)\n",
      "Requirement already satisfied: threadpoolctl>=2.0.0 in ./opt/anaconda3/lib/python3.8/site-packages (from scikit-learn>=0.24->imbalanced-learn->imblearn) (2.1.0)\n",
      "[12:44:07] WARNING: /Users/travis/build/dmlc/xgboost/src/learner.cc:1095: Starting in XGBoost 1.3.0, the default evaluation metric used with the objective 'multi:softprob' was changed from 'merror' to 'mlogloss'. Explicitly set eval_metric if you'd like to restore the old behavior.\n"
     ]
    },
    {
     "name": "stderr",
     "output_type": "stream",
     "text": [
      "/Users/eva/opt/anaconda3/lib/python3.8/site-packages/xgboost/sklearn.py:1146: UserWarning: The use of label encoder in XGBClassifier is deprecated and will be removed in a future release. To remove this warning, do the following: 1) Pass option use_label_encoder=False when constructing XGBClassifier object; and 2) Encode your labels (y) as integers starting with 0, i.e. 0, 1, 2, ..., [num_class - 1].\n",
      "  warnings.warn(label_encoder_deprecation_msg, UserWarning)\n",
      "/Users/eva/opt/anaconda3/lib/python3.8/site-packages/xgboost/data.py:112: UserWarning: Use subset (sliced data) of np.ndarray is not recommended because it will generate extra copies and increase memory consumption\n",
      "  warnings.warn(\n"
     ]
    },
    {
     "data": {
      "text/plain": [
       "0.43439584877687176"
      ]
     },
     "execution_count": 196,
     "metadata": {},
     "output_type": "execute_result"
    }
   ],
   "source": [
    "# XGBoost\n",
    "!pip install imblearn\n",
    "from imblearn.over_sampling import SMOTE, ADASYN\n",
    "xgboost_model = XGBClassifier()\n",
    "xgboost_model.fit(X_train, y_train.values.ravel())\n",
    "\n",
    "y_pred = xgboost_model.predict(X_test)\n",
    "accuracy_score(y_test, y_pred)"
   ]
  },
  {
   "cell_type": "code",
   "execution_count": 197,
   "metadata": {
    "id": "h4SwswDjEvfN"
   },
   "outputs": [
    {
     "name": "stderr",
     "output_type": "stream",
     "text": [
      "/Users/eva/opt/anaconda3/lib/python3.8/site-packages/xgboost/sklearn.py:1146: UserWarning: The use of label encoder in XGBClassifier is deprecated and will be removed in a future release. To remove this warning, do the following: 1) Pass option use_label_encoder=False when constructing XGBClassifier object; and 2) Encode your labels (y) as integers starting with 0, i.e. 0, 1, 2, ..., [num_class - 1].\n",
      "  warnings.warn(label_encoder_deprecation_msg, UserWarning)\n"
     ]
    },
    {
     "name": "stdout",
     "output_type": "stream",
     "text": [
      "[12:44:07] WARNING: /Users/travis/build/dmlc/xgboost/src/learner.cc:573: \n",
      "Parameters: { \"learn_rate\" } might not be used.\n",
      "\n",
      "  This may not be accurate due to some parameters are only used in language bindings but\n",
      "  passed down to XGBoost core.  Or some parameters are not used but slip through this\n",
      "  verification. Please open an issue if you find above cases.\n",
      "\n",
      "\n",
      "[12:44:07] WARNING: /Users/travis/build/dmlc/xgboost/src/learner.cc:1095: Starting in XGBoost 1.3.0, the default evaluation metric used with the objective 'multi:softprob' was changed from 'merror' to 'mlogloss'. Explicitly set eval_metric if you'd like to restore the old behavior.\n"
     ]
    },
    {
     "name": "stderr",
     "output_type": "stream",
     "text": [
      "/Users/eva/opt/anaconda3/lib/python3.8/site-packages/xgboost/data.py:112: UserWarning: Use subset (sliced data) of np.ndarray is not recommended because it will generate extra copies and increase memory consumption\n",
      "  warnings.warn(\n"
     ]
    },
    {
     "data": {
      "text/plain": [
       "0.4425500370644922"
      ]
     },
     "execution_count": 197,
     "metadata": {},
     "output_type": "execute_result"
    }
   ],
   "source": [
    "# XGBoost with tuned parameters\n",
    "# {'gamma': 1, 'learn_rate': 0.1, 'max_depth': 3, 'subsample': 0.9}\n",
    "tuned_xgboost_model = XGBClassifier(gamma=1, learn_rate=0.1, max_depth=3, subsample=0.9)\n",
    "tuned_xgboost_model.fit(X_train, y_train.values.ravel())\n",
    "\n",
    "y_pred = tuned_xgboost_model.predict(X_test)\n",
    "accuracy_score(y_test, y_pred)"
   ]
  },
  {
   "cell_type": "code",
   "execution_count": 198,
   "metadata": {
    "colab": {
     "base_uri": "https://localhost:8080/"
    },
    "id": "QvM86XUHfZJn",
    "outputId": "2cdf7864-9b0a-45cc-f927-ca54534bcd76"
   },
   "outputs": [
    {
     "data": {
      "text/plain": [
       "0.4158636026686434"
      ]
     },
     "execution_count": 198,
     "metadata": {},
     "output_type": "execute_result"
    }
   ],
   "source": [
    "# K Nearest Neighbors\n",
    "neighbors = KNeighborsClassifier(n_neighbors=5)\n",
    "neighbors.fit(X_train, y_train.values.ravel())\n",
    "\n",
    "y_pred = neighbors.predict(X_test)\n",
    "accuracy_score(y_test, y_pred)"
   ]
  },
  {
   "cell_type": "code",
   "execution_count": 199,
   "metadata": {
    "colab": {
     "base_uri": "https://localhost:8080/"
    },
    "id": "uZx3YnboST1R",
    "outputId": "916bbfa0-972e-4277-a638-6b46f12106c5"
   },
   "outputs": [
    {
     "data": {
      "text/plain": [
       "0.41808747220163084"
      ]
     },
     "execution_count": 199,
     "metadata": {},
     "output_type": "execute_result"
    }
   ],
   "source": [
    "# Decision Trees\n",
    "DT_clf = DecisionTreeClassifier()\n",
    "DT_clf.fit(X_train, y_train.values.ravel())\n",
    "\n",
    "y_pred = DT_clf.predict(X_test)\n",
    "accuracy_score(y_test, y_pred)"
   ]
  },
  {
   "cell_type": "code",
   "execution_count": 200,
   "metadata": {
    "colab": {
     "base_uri": "https://localhost:8080/"
    },
    "id": "jXqmOORaXzB0",
    "outputId": "9d12e1ca-7e8c-46e9-9e8e-0dd0f6d5f642"
   },
   "outputs": [
    {
     "data": {
      "text/plain": [
       "0.4395848776871757"
      ]
     },
     "execution_count": 200,
     "metadata": {},
     "output_type": "execute_result"
    }
   ],
   "source": [
    "# Support Vector Classifier\n",
    "SVC = svm.SVC()\n",
    "SVC.fit(X_train, y_train)\n",
    "\n",
    "y_pred = SVC.predict(X_test)\n",
    "accuracy_score(y_test, y_pred)"
   ]
  },
  {
   "cell_type": "markdown",
   "metadata": {
    "id": "nk8wbTJyEC05"
   },
   "source": [
    "### Hyperparameter Tuning"
   ]
  },
  {
   "cell_type": "code",
   "execution_count": 201,
   "metadata": {
    "colab": {
     "base_uri": "https://localhost:8080/"
    },
    "id": "-566h5EdEcbT",
    "outputId": "6edc0dc9-af77-4b06-9e3a-2f076313f644"
   },
   "outputs": [
    {
     "ename": "NameError",
     "evalue": "name 'classes' is not defined",
     "output_type": "error",
     "traceback": [
      "\u001b[0;31m---------------------------------------------------------------------------\u001b[0m",
      "\u001b[0;31mNameError\u001b[0m                                 Traceback (most recent call last)",
      "\u001b[0;32m<ipython-input-201-5359bf14408a>\u001b[0m in \u001b[0;36m<module>\u001b[0;34m\u001b[0m\n\u001b[0;32m----> 1\u001b[0;31m \u001b[0mclass_weight\u001b[0m \u001b[0;34m=\u001b[0m \u001b[0mcompute_class_weight\u001b[0m\u001b[0;34m(\u001b[0m\u001b[0;34m'balanced'\u001b[0m\u001b[0;34m,\u001b[0m \u001b[0mclasses\u001b[0m\u001b[0;34m,\u001b[0m \u001b[0mtarget\u001b[0m\u001b[0;34m)\u001b[0m\u001b[0;34m\u001b[0m\u001b[0;34m\u001b[0m\u001b[0m\n\u001b[0m\u001b[1;32m      2\u001b[0m \u001b[0mprint\u001b[0m\u001b[0;34m(\u001b[0m\u001b[0mclass_weight\u001b[0m\u001b[0;34m)\u001b[0m\u001b[0;34m\u001b[0m\u001b[0;34m\u001b[0m\u001b[0m\n",
      "\u001b[0;31mNameError\u001b[0m: name 'classes' is not defined"
     ]
    }
   ],
   "source": [
    "class_weight = compute_class_weight('balanced', classes, target)\n",
    "print(class_weight)"
   ]
  },
  {
   "cell_type": "code",
   "execution_count": null,
   "metadata": {
    "colab": {
     "base_uri": "https://localhost:8080/"
    },
    "id": "ideO92htHovC",
    "outputId": "e13f50dd-44fa-4240-937a-5b1491c6d57a"
   },
   "outputs": [],
   "source": [
    "# Finding the best parameters for XGBoost\n",
    "def parameter_tune(clf, hyper_params):\n",
    "    # Type of scoring used to compare parameter combinations\n",
    "    acc_scorer = make_scorer(accuracy_score)\n",
    "\n",
    "    # Run the grid search\n",
    "    grid_obj = GridSearchCV(clf, hyper_params, scoring=acc_scorer)\n",
    "    grid_obj.fit(X_train, y_train)\n",
    "    return grid_obj\n",
    "\n",
    "# Parameter combonations that the grid search will try\n",
    "hyper_params = {'max_depth': [3, 4, 5],\n",
    "                'learn_rate': [0.1, 0.09, 0.08, 0.07],\n",
    "                'subsample': [0.8, 0.9, 1],\n",
    "                'gamma': [0, 1, 5]}\n",
    "# Find the best parameters with GridSearchCV\n",
    "#grid_search_obj = parameter_tune(XGBClassifier(), hyper_params)\n",
    "#grid_search_obj.cv_results_"
   ]
  },
  {
   "cell_type": "code",
   "execution_count": null,
   "metadata": {
    "colab": {
     "base_uri": "https://localhost:8080/",
     "height": 165
    },
    "id": "li4q50TOLbQx",
    "outputId": "3423f843-ce96-48e2-f752-1986c7506b90"
   },
   "outputs": [],
   "source": [
    "# Make the results into a dataframe\n",
    "#grid_search_df = pd.DataFrame(grid_search_obj.cv_results_)\n",
    "#grid_search_df"
   ]
  },
  {
   "cell_type": "code",
   "execution_count": null,
   "metadata": {
    "id": "C7f6V4sX8ztB"
   },
   "outputs": [],
   "source": [
    "# Print out the best parameters\n",
    "#grid_search_obj.best_params_"
   ]
  },
  {
   "cell_type": "code",
   "execution_count": null,
   "metadata": {
    "id": "Fl6GKbFQ8yK8"
   },
   "outputs": [],
   "source": [
    "# Get the best estimator\n",
    "#BEST_XG_CLF = grid_search_obj.best_estimator_\n",
    "#BEST_XG_CLF"
   ]
  },
  {
   "cell_type": "code",
   "execution_count": null,
   "metadata": {
    "colab": {
     "base_uri": "https://localhost:8080/"
    },
    "id": "wfIDcpUbOtOc",
    "outputId": "783bc9cd-2675-4660-952e-6acc1cced4b6"
   },
   "outputs": [],
   "source": [
    "# Print the classification_report of the best estimator\n",
    "#BEST_XG_CLF.fit(X_train, y_train)\n",
    "\n",
    "#y_pred = BEST_XG_CLF.predict(X_test)\n",
    "#accuracy_score(y_test, y_pred)\n",
    "\n",
    "#print(classification_report(y_test, y_pred))"
   ]
  },
  {
   "cell_type": "code",
   "execution_count": null,
   "metadata": {
    "colab": {
     "base_uri": "https://localhost:8080/"
    },
    "id": "87sIVNlDrI_Q",
    "outputId": "faa13bb1-7672-4c28-9fa6-7b0801143b70"
   },
   "outputs": [],
   "source": [
    "# XGBoost with oversampled data\n",
    "# over sampled train set\n",
    "!pip install RandomOverSampler\n",
    "import RandomOverSampler\n",
    "oversample = RandomOverSampler(random_state=42)\n",
    "X_train_over, y_train_over = oversample.fit_resample(X_train_norm, y_train)\n",
    "\n",
    "\n",
    "xgboost_model_o = XGBClassifier(base_score=0.5, booster='gbtree', colsample_bylevel=1,\n",
    "                    colsample_bynode=1, colsample_bytree=1, gamma=0, learn_rate=0.2,\n",
    "                    learning_rate=0.1, max_delta_step=0, max_depth=3,\n",
    "                    min_child_weight=1, missing=None, n_estimators=100, n_jobs=1,\n",
    "                    nthread=None, objective='multi:softprob', random_state=42,\n",
    "                    reg_alpha=0, reg_lambda=1, sample_rate=0.8,\n",
    "                    seed=None, silent=None, subsample=1, verbosity=1)\n",
    "xgboost_model_o.fit(X_train_over, y_train_over)\n",
    "\n",
    "y_pred = xgboost_model_o.predict(X_test_norm)\n",
    "accuracy_score(y_test, y_pred)\n",
    "\n",
    "print(classification_report(y_test, y_pred))"
   ]
  },
  {
   "cell_type": "code",
   "execution_count": null,
   "metadata": {
    "id": "PcmrRSeN9D98"
   },
   "outputs": [],
   "source": [
    "predictors = df[['% Disease', 'Wellness_Condition', 'HeatIndexC', 'DewPointC', 'WindChillC', 'sunHour', 'Season_Fall', 'Season_Spring', 'Season_Summer', 'Season_Winter', 'Region_Goyena', 'Region_Troilo']]\n",
    "targetc = df['Crop']\n",
    "\n",
    "X_trainc, X_testc, y_trainc, y_testc = train_test_split(predictors, targetc, test_size=0.2, shuffle=True)"
   ]
  },
  {
   "cell_type": "code",
   "execution_count": null,
   "metadata": {
    "colab": {
     "base_uri": "https://localhost:8080/",
     "height": 228
    },
    "id": "gM7PC3Yu9Pqh",
    "outputId": "bc59f415-dfbd-4a69-d077-390dc831549e"
   },
   "outputs": [],
   "source": [
    "# Crops data \n",
    "!pip install XGBClassifier\n",
    "xgboost_model = XGBClassifier(base_score=0.5, booster='gbtree', colsample_bylevel=1,\n",
    "                    colsample_bynode=1, colsample_bytree=1, gamma=0, learn_rate=0.2,\n",
    "                    learning_rate=0.1, max_delta_step=0, max_depth=3,\n",
    "                    min_child_weight=1, missing=None, n_estimators=100, n_jobs=1,\n",
    "                    nthread=None, objective='multi:softprob', random_state=42,\n",
    "                    reg_alpha=0, reg_lambda=1, sample_rate=0.8, scale_pos_weight=class_weight,\n",
    "                    seed=None, silent=None, subsample=1, verbosity=1)\n",
    "xgboost_model.fit(X_trainc, y_trainc)\n",
    "\n",
    "y_pred = xgboost_model.predict(X_testc)\n",
    "accuracy_score(y_testc, y_pred)\n",
    "\n",
    "print(classification_report(y_testc, y_pred))"
   ]
  },
  {
   "cell_type": "markdown",
   "metadata": {
    "id": "KE3PlV79U2m8"
   },
   "source": [
    "## ➡️ Test set predictions"
   ]
  },
  {
   "cell_type": "code",
   "execution_count": null,
   "metadata": {
    "id": "cmRBUZkuTNAQ"
   },
   "outputs": [],
   "source": [
    "\n",
    "\n",
    "def show_preds(df, X, y, clf, occupations, duplicates=False):\n",
    "    df = df.copy()\n",
    "    df[\"pred\"] = [occupations[code] for code in clf.predict(X)]\n",
    "    df[\"proba\"] = clf.predict_proba(X).max(axis=1)\n",
    "    df[\"correct\"] = df[\"pred\"] == df[\"occupation\"]\n",
    "    if not duplicates:\n",
    "        df = df.drop_duplicates()\n",
    "    acc = accuracy_score(df[\"occupation\"], df[\"pred\"])\n",
    "    pred_df = df[[\"correct\", \"occupation\", \"pred\", \"proba\", \"jobtitle\", \"industry\"]]\n",
    "    out = pred_df.style.apply(lambda row: [\n",
    "        \"background: mediumspringgreen;\" if row[\"pred\"] is row[\"occupation\"] else \"background: tomato;\" for cell in row\n",
    "    ], axis=1, subset=[\"occupation\", \"pred\"])\n",
    "    print(\"Accuracy = {:.3f}\".format(acc))\n",
    "    return out\n",
    "\n",
    "\n",
    "def show_weights(model, features, classes, ax=None):\n",
    "    has_plot = True\n",
    "    if ax is None:\n",
    "        _, ax = plt.subplots(1, 1)\n",
    "        has_plot = False\n",
    "    weights = np.hstack([clf.intercept_.reshape(-1, 1), clf.coef_]).T\n",
    "    classes = [occupations[crop] for crop in clf.classes_]\n",
    "    predictors = [\"intercept\"] + features\n",
    "    class_labels = [\"\\n\".join(c.split(\" \")) for c in classes]\n",
    "    sns.heatmap(weights, annot=True, fmt=\".3f\", cmap=\"RdBu\", ax=ax)\n",
    "    ax.set_xticks(np.arange(len(classes)) + 0.5)\n",
    "    ax.set_yticks(np.arange(len(predictors)) + 0.5)\n",
    "    ax.set_xticklabels(class_labels, {\"rotation\": 0})\n",
    "    ax.set_yticklabels(predictors, {\"rotation\": 0})\n",
    "    ax.set_xlabel(\"Target Class\")\n",
    "    ax.set_ylabel(\"Predictor Variable\")\n",
    "    ax.set_title(\"Model Weights\")\n",
    "    if not has_plot:\n",
    "        plt.show()"
   ]
  },
  {
   "cell_type": "code",
   "execution_count": 202,
   "metadata": {
    "id": "wi24W7gcSiau"
   },
   "outputs": [
    {
     "ename": "NameError",
     "evalue": "name 'clf' is not defined",
     "output_type": "error",
     "traceback": [
      "\u001b[0;31m---------------------------------------------------------------------------\u001b[0m",
      "\u001b[0;31mNameError\u001b[0m                                 Traceback (most recent call last)",
      "\u001b[0;32m<ipython-input-202-25c7665cfc7b>\u001b[0m in \u001b[0;36m<module>\u001b[0;34m\u001b[0m\n\u001b[0;32m----> 1\u001b[0;31m \u001b[0mweights\u001b[0m \u001b[0;34m=\u001b[0m \u001b[0mnp\u001b[0m\u001b[0;34m.\u001b[0m\u001b[0mhstack\u001b[0m\u001b[0;34m(\u001b[0m\u001b[0;34m[\u001b[0m\u001b[0mclf\u001b[0m\u001b[0;34m.\u001b[0m\u001b[0mintercept_\u001b[0m\u001b[0;34m.\u001b[0m\u001b[0mreshape\u001b[0m\u001b[0;34m(\u001b[0m\u001b[0;34m-\u001b[0m\u001b[0;36m1\u001b[0m\u001b[0;34m,\u001b[0m \u001b[0;36m1\u001b[0m\u001b[0;34m)\u001b[0m\u001b[0;34m,\u001b[0m \u001b[0mclf\u001b[0m\u001b[0;34m.\u001b[0m\u001b[0mcoef_\u001b[0m\u001b[0;34m]\u001b[0m\u001b[0;34m)\u001b[0m\u001b[0;34m.\u001b[0m\u001b[0mT\u001b[0m\u001b[0;34m\u001b[0m\u001b[0;34m\u001b[0m\u001b[0m\n\u001b[0m",
      "\u001b[0;31mNameError\u001b[0m: name 'clf' is not defined"
     ]
    }
   ],
   "source": [
    "weights = np.hstack([clf.intercept_.reshape(-1, 1), clf.coef_]).T"
   ]
  },
  {
   "cell_type": "code",
   "execution_count": null,
   "metadata": {
    "id": "uFRH429GAshT"
   },
   "outputs": [],
   "source": []
  },
  {
   "cell_type": "code",
   "execution_count": 32,
   "metadata": {
    "id": "dSbDddDO3Fg4"
   },
   "outputs": [],
   "source": []
  },
  {
   "cell_type": "code",
   "execution_count": null,
   "metadata": {
    "id": "6V9QrLAANm4s"
   },
   "outputs": [],
   "source": []
  },
  {
   "cell_type": "code",
   "execution_count": null,
   "metadata": {
    "colab": {
     "base_uri": "https://localhost:8080/",
     "height": 286
    },
    "id": "B1TbSETY6zvx",
    "outputId": "4ec10137-381e-4e10-ee45-99b89ae16c7e"
   },
   "outputs": [
    {
     "name": "stdout",
     "output_type": "stream",
     "text": [
      " * Serving Flask app \"__main__\" (lazy loading)\n",
      " * Environment: production\n",
      "\u001b[31m   WARNING: This is a development server. Do not use it in a production deployment.\u001b[0m\n",
      "\u001b[2m   Use a production WSGI server instead.\u001b[0m\n",
      " * Debug mode: on\n"
     ]
    },
    {
     "name": "stderr",
     "output_type": "stream",
     "text": [
      " * Running on http://127.0.0.1:53300/ (Press CTRL+C to quit)\n",
      " * Restarting with stat\n"
     ]
    },
    {
     "ename": "SystemExit",
     "evalue": "ignored",
     "output_type": "error",
     "traceback": [
      "An exception has occurred, use %tb to see the full traceback.\n",
      "\u001b[0;31mSystemExit\u001b[0m\u001b[0;31m:\u001b[0m 1\n"
     ]
    },
    {
     "name": "stderr",
     "output_type": "stream",
     "text": [
      "/usr/local/lib/python3.7/dist-packages/IPython/core/interactiveshell.py:2890: UserWarning: To exit: use 'exit', 'quit', or Ctrl-D.\n",
      "  warn(\"To exit: use 'exit', 'quit', or Ctrl-D.\", stacklevel=1)\n"
     ]
    }
   ],
   "source": [
    "\n"
   ]
  },
  {
   "cell_type": "code",
   "execution_count": 1,
   "metadata": {
    "colab": {
     "base_uri": "https://localhost:8080/",
     "height": 360
    },
    "id": "UpHnFJ2T98Iw",
    "outputId": "8b16f327-d5a4-4735-d8f5-63c682e927e1"
   },
   "outputs": [
    {
     "ename": "ModuleNotFoundError",
     "evalue": "ignored",
     "output_type": "error",
     "traceback": [
      "\u001b[0;31m---------------------------------------------------------------------------\u001b[0m",
      "\u001b[0;31mModuleNotFoundError\u001b[0m                       Traceback (most recent call last)",
      "\u001b[0;32m<ipython-input-1-2cdd3addbe25>\u001b[0m in \u001b[0;36m<module>\u001b[0;34m()\u001b[0m\n\u001b[0;32m----> 1\u001b[0;31m \u001b[0;32mimport\u001b[0m \u001b[0mdash\u001b[0m\u001b[0;34m\u001b[0m\u001b[0;34m\u001b[0m\u001b[0m\n\u001b[0m\u001b[1;32m      2\u001b[0m \u001b[0;32mimport\u001b[0m \u001b[0mdash_bootstrap_components\u001b[0m \u001b[0;32mas\u001b[0m \u001b[0mdbc\u001b[0m\u001b[0;34m\u001b[0m\u001b[0;34m\u001b[0m\u001b[0m\n\u001b[1;32m      3\u001b[0m \u001b[0;32mfrom\u001b[0m \u001b[0mdash\u001b[0m\u001b[0;34m.\u001b[0m\u001b[0mdependencies\u001b[0m \u001b[0;32mimport\u001b[0m \u001b[0mInput\u001b[0m\u001b[0;34m,\u001b[0m \u001b[0mOutput\u001b[0m\u001b[0;34m\u001b[0m\u001b[0;34m\u001b[0m\u001b[0m\n\u001b[1;32m      4\u001b[0m \u001b[0;32mfrom\u001b[0m \u001b[0mloaded_model\u001b[0m \u001b[0;32mimport\u001b[0m \u001b[0mloadmodel\u001b[0m\u001b[0;34m\u001b[0m\u001b[0;34m\u001b[0m\u001b[0m\n\u001b[1;32m      5\u001b[0m \u001b[0;32mfrom\u001b[0m \u001b[0mlayout\u001b[0m \u001b[0;32mimport\u001b[0m \u001b[0mlayout\u001b[0m\u001b[0;34m\u001b[0m\u001b[0;34m\u001b[0m\u001b[0m\n",
      "\u001b[0;31mModuleNotFoundError\u001b[0m: No module named 'dash'",
      "",
      "\u001b[0;31m---------------------------------------------------------------------------\u001b[0;32m\nNOTE: If your import is failing due to a missing package, you can\nmanually install dependencies using either !pip or !apt.\n\nTo view examples of installing some common dependencies, click the\n\"Open Examples\" button below.\n\u001b[0;31m---------------------------------------------------------------------------\u001b[0m\n"
     ]
    }
   ],
   "source": []
  },
  {
   "cell_type": "markdown",
   "metadata": {
    "id": "Hfi28J_ofmGu"
   },
   "source": [
    "#### Prediction Visualizations"
   ]
  },
  {
   "cell_type": "code",
   "execution_count": null,
   "metadata": {
    "id": "iHVDqC9OflQ0"
   },
   "outputs": [],
   "source": [
    "###"
   ]
  },
  {
   "cell_type": "markdown",
   "metadata": {
    "id": "OeWVeyT0CobY"
   },
   "source": [
    "### Appendix\n",
    "\n",
    "#### Initial data cleaning \n",
    "\n",
    "We produced a cleaned version of the data titled `VL_farm_geo_w.csv`.\n",
    "Below is a description of the initial data cleaning steps we took. \n",
    "\n",
    "The data we received from Viviendas Leon (VL) originally consisted of these files:\n",
    "\n",
    "1) corrected names of farmers VL worked with\n",
    "\n",
    "2) farming data 2017 - 2021 of the farmers \n",
    "\n",
    "3) coordinates of the families\n",
    "\n",
    "We further scraped weather information to add to our analysis. \n",
    "\n",
    "1) replaced all the family names with corrected names\n",
    "\n",
    "2) translated Spanish (the original language of the data) into English\n",
    "\n",
    "3) merged the farming data with weather and geocoordinate data\n",
    "\n",
    "Below are useful functions we used for data cleaning, and the code of our data cleaning.\n",
    "\n"
   ]
  },
  {
   "cell_type": "markdown",
   "metadata": {
    "id": "1M6upY_2g5i4"
   },
   "source": [
    "### Read the Data\n",
    "\n",
    "Files used for this Classifier:\n",
    "\n",
    "- vl_2017to19.xlsx *from farming data folder* : Viviendas Leon visit data 2017 - 2019. Combine with vl_2019to20.xlsx for full dataset\n",
    "\n",
    "- vl_2019to20.xlsxz *from farming data folder* : Viviendas Leon visit data 2019 - 2020\n",
    "\n",
    "- 210304_Full Participant List Farming Program 2017-2021.xlsx *from farming data folder* : List of corrected family names.\n",
    "\n",
    "- vl_historical_data.csv *from geo data folder*: 2017 - 2021 Weather Data for GPS locations to 2 decimal precision \n",
    "\n",
    "- family_coordinates_api.csv *located in geo data golder* : List of VL family names and api coordinates. Mergess Viviendas Leon visit data with historical weather data\n"
   ]
  },
  {
   "cell_type": "markdown",
   "metadata": {
    "id": "h2yibCb6Ew3U"
   },
   "source": [
    "## ✏️ Data Preparation\n",
    "\n",
    "Leads: Lauren & Kelly"
   ]
  },
  {
   "cell_type": "code",
   "execution_count": null,
   "metadata": {
    "id": "O7amnEYwD4KN"
   },
   "outputs": [],
   "source": [
    "# Load farming data, weather data, geo data\n",
    "\n",
    "# dropped last three rows (just empty)\n",
    "correct_names = pd.read_excel(\"210304_Full Participant List Farming Program 2017-2021.xlsx\").drop([51,52,53], axis=0)\n",
    "correct_names.columns = correct_names.loc[0,:]\n",
    "correct_names = correct_names.drop([0], axis=0)\n",
    "\n",
    "# load data\n",
    "data_17_19 = pd.read_excel(\"VL Huertos Familiares- Hoja de Datos (2017-2019).xlsx\")\n",
    "data_19_20 = pd.read_excel(\"VL Huertos Familiares- Hoja de Datos (2019-2020).xlsx\")\n",
    "\n",
    "# Lauren\n",
    "historic_w = pd.read_csv('w_historic.csv')\n",
    "families_coordinates = pd.read_csv('family_coordinates_api.csv')"
   ]
  },
  {
   "cell_type": "code",
   "execution_count": null,
   "metadata": {
    "id": "ON92OKtRECKe"
   },
   "outputs": [],
   "source": [
    "def combined_farming(dataframe1, dataframe2):\n",
    "  # Kelly\n",
    "  #drop empty column\n",
    "  dataframe1 = dataframe1.drop(\"Unnamed: 10\", axis=1)\n",
    "\n",
    "  '''Translate Spanish column names into English'''\n",
    "\n",
    "  translated_cols = ['Date visited','Auditor','Region','Community','Family visited','Present?',\n",
    "                      'Fruit','Fruit_Condition (seedling or transplanted)', 'Fruit_% Disease','Fruit_Condition',\n",
    "                      'Fruit_Plague','Fruit_Organic recommendation','Fruit_Chemical recommendation',\n",
    "                      'Vegetables','Veg_Condition (seedling or transplanted)','Veg_% Disease','Veg_Condition',\n",
    "                      'Veg_Plague','Veg_Organic recommendation','Veg_Chemical recommendation',\n",
    "                      'Legumes and seeds','LnS_Condition (seedling or transplanted)','LnS_% Disease',\n",
    "                      'LnS_Condition','LnS_Plague','LnS_Organic recommendation','LnS_Chemical recommendation',\n",
    "                      'Grasses','Grasses_Condition (seedling or transplanted)','Grasses_% Disease',\n",
    "                      'Grasses_Condition','Grasses_Plague','Grasses_Organic recommendation',\n",
    "                      'Grasses_Chemical recommendation',\n",
    "                      'Commentaries, additional remarks','Response, commentary follow up']\n",
    "  # rename columns \n",
    "  dataframe1.columns = translated_cols\n",
    "  dataframe2.columns = translated_cols\n",
    "\n",
    "  # drop first 3 rows (headings of table names)\n",
    "  dataframe1 = dataframe1.drop([0, 1, 2], axis=0) \n",
    "  dataframe2 = dataframe2.drop([0, 1, 2], axis=0)\n",
    "\n",
    "  # appending 2019-2020 to the bottom of 2017-2019 data\n",
    "  combined_data = dataframe1.append(dataframe2)\n",
    "\n",
    "  return combined_data\n",
    "\n",
    "def clean_farming(combined_data):\n",
    "\n",
    "  '''Preliminary cleaning for consistent data entry, correct names, and structuring\n",
    "  data so that each row is one observation for one crop.'''\n",
    "\n",
    "    # fill NaN with 0s\n",
    "    combined_data = combined_data.fillna(0)\n",
    "\n",
    "\n",
    "    # further cleaning\n",
    "    combined_data[\"Month visited\"] = combined_data[\"Date visited\"].dt.month\n",
    "    combined_data[\"Year visited\"] = combined_data[\"Date visited\"].dt.year\n",
    "    combined_data[\"Veg_% Disease\"] = combined_data[\"Veg_% Disease\"].replace(['35 %', ';4', ' '], [35, 4, 0])\n",
    "    combined_data[\"Fruit\"] = combined_data[\"Fruit\"].replace(['Piña', 'piña'], 'Pina')\n",
    "    combined_data[\"Legumes and seeds\"] = combined_data[\"Legumes and seeds\"].replace(\"Pipián\", \"Pipian\")\n",
    "    combined_data[\"Legumes and seeds\"] = combined_data[\"Legumes and seeds\"].replace(\"I\", \"None\")\n",
    "    combined_data[\"Legumes and seeds\"] = combined_data[\"Legumes and seeds\"].replace([\"Frijol Rojo\", \"Frijoles rojo\"], \"Frijol rojo\")\n",
    "    combined_data[\"Legumes and seeds\"] = combined_data[\"Legumes and seeds\"].replace([\"Frijoles blanco\", \"Frijol blanco\"])\n",
    "\n",
    "    # replace with corrected names\n",
    "    combined_data = combined_data.replace(correct_names.iloc[:,3].values, correct_names.iloc[:,4].values)\n",
    "\n",
    "    # structure data so that one row is one observation \n",
    "    overall_info = combined_data.iloc[:,:6]\n",
    "    fruit = combined_data.iloc[:,6:13]\n",
    "    veg = combined_data.iloc[:,13:20]\n",
    "    lns = combined_data.iloc[:,20:27]\n",
    "    grasses = combined_data.iloc[:,27:34]\n",
    "\n",
    "    # keeping a column for crop type\n",
    "    fruit['Type'] = 'Fruit'\n",
    "    veg['Type'] = 'Veg'\n",
    "    lns['Type'] = 'Legumes Seeds'\n",
    "    grasses['Type'] = 'Grains'\n",
    "\n",
    "    crops = [fruit, veg, lns, grasses]\n",
    "    crops_0 = []\n",
    "    new_col_names = ['Date visited','Auditor','Region','Community','Family visited','Present?',\n",
    "                          'Crop','Seedling_or_transplanted', '% Disease','Condition',\n",
    "                          'Plague','Organic recommendation','Chemical recommendation', 'Type']\n",
    "\n",
    "    for table in crops:\n",
    "      temp = pd.concat([overall_info, table], axis=1)\n",
    "      temp.columns = new_col_names\n",
    "      crops_0.append(temp)\n",
    "\n",
    "    final = crops_0[0]\n",
    "    for table in crops_0[1:]:\n",
    "      final = pd.concat([final, table], axis=0)\n",
    "\n",
    "    # Lauren\n",
    "    # Removing empties\n",
    "    final = final[final['Crop']!=0]\n",
    "\n",
    "    # Cleaning names column\n",
    "\n",
    "    final['Family visited'] = final['Family visited'].str.lower()\n",
    "\n",
    "    final = final.replace(\n",
    "        ['arelis', 'arelis  solis', 'arelis solis',\n",
    "          'arelis soliz', 'areliz solis', 'arlelis solis'], 'arelis solis')\n",
    "\n",
    "    final = final.replace(\n",
    "        ['freddy', 'freddy lanza', 'freddy lanzas',\n",
    "          'freddy lasza', 'freddys campo', 'fredi ', 'fredis ',\n",
    "          'fredis lanza', 'fredy lanzas', 'fredys'], 'freddy lanza')\n",
    "\n",
    "    final = final.replace(\n",
    "        ['helen espinoza', 'hellen', 'hellen espinoza', ], 'hellen espinoza')\n",
    "\n",
    "    final = final.replace(\n",
    "        ['johana', 'johana  salgado','johana salgado', 'johanna salgado', 'yohana salgado'], 'johana salgado')\n",
    "\n",
    "    final = final.replace(\n",
    "        ['juan sandobal', 'juan sandoval'], 'juan sandoval')\n",
    "\n",
    "    final = final.replace(\n",
    "        ['maria jose', 'maria jose roque',\n",
    "          'maria jose roque ', 'mariajose roque', ',maria jose roque', ], 'maria jose roque')\n",
    "\n",
    "    final = final.replace(\n",
    "        ['marvin toval', 'marvin toval padilla'], 'marvin toval padilla')\n",
    "\n",
    "    final = final.replace(\n",
    "        ['naideling', 'naideling vargas', 'naidelyn', 'naidelyn vargas', 'naidelyng', 'naidelyng ', 'naidelyng vargas', 'naydelin', 'naydelin varga', 'naydeling', 'naydeling varga', 'naydeling vargas', 'nayeling varga’, ‘neilyng', 'ávila vargas'\n",
    "    ], 'naydeling vargas')\n",
    "\n",
    "    final = final.replace(\n",
    "        ['nayeli roque','nayelis  roque', 'nayelis roque', 'nayelis roqur', 'nerlyn roque',\n",
    "    ], 'nayelis roque')\n",
    "\n",
    "    final = final.replace(\n",
    "        ['nerligh hernandez', 'nerling henandez', 'nerling hernandez',\n",
    "          'nerlyn hernandez', 'nerlynh hernandez',], 'nerling hernandez')\n",
    "\n",
    "    final = final.replace(\n",
    "        ['rayson membreño', 'reison membreño', 'reison membreńo',\n",
    "          'reysom membreño', 'reyson membrecho', 'reyson membreño',\n",
    "          'reyson membreńo', 'reyson menbreño'], 'reysom membreño')\n",
    "\n",
    "    final = final.replace(\n",
    "        ['yader  morales', 'yader morales', 'yader morales ',\n",
    "          'yadermorales', ], 'yader morales')\n",
    "\n",
    "    final[\"Month visited\"] = final[\"Date visited\"].dt.month\n",
    "    final[\"Year visited\"] = final[\"Date visited\"].dt.year      \n",
    "    return final\n",
    "\n",
    "\n",
    "def clean_gps(families_coordinates):\n",
    "    '''Making families_coordinates names identical to VL farming names'''\n",
    "\n",
    "    families_coordinates['Name'] = families_coordinates['Name'].str[8:].str.lower()\n",
    "\n",
    "    families_coordinates['Name'] = families_coordinates['Name'].str.replace('\\s{2,}', ' ')\n",
    "    families_coordinates = families_coordinates.replace(\n",
    "        ['rebeca sequeira'], 'rebeca carolina sequeira morales')\n",
    "    families_coordinates = families_coordinates.replace(\n",
    "        ['fátima castillo'], 'maría de fátima castillo')\n",
    "    families_coordinates = families_coordinates.replace(\n",
    "        ['yojhana cristina flores'], 'johana cristina altamirano flores')\n",
    "    families_coordinates = families_coordinates.replace(\n",
    "        ['karla galeano'], 'karla galiano martínez')\n",
    "    families_coordinates = families_coordinates.replace(\n",
    "        ['rita arevalo'], 'rita arévalo mora')\n",
    "    families_coordinates = families_coordinates.replace(\n",
    "        ['cristina alvares'], 'cristina alvares solís')\n",
    "    families_coordinates = families_coordinates.replace(\n",
    "        ['claudia arevalo'], 'claudia flavia arévalo')\n",
    "    families_coordinates = families_coordinates.replace(\n",
    "        ['silvia elena  moran'], 'silvia elena moran')\n",
    "    families_coordinates = families_coordinates.replace(\n",
    "        ['cristina avendaño'], 'maria cristina avendaño')\n",
    "    families_coordinates = families_coordinates.replace(\n",
    "        ['melania jacaba quiroz'], 'melania jocoba quiroz')\n",
    "    families_coordinates = families_coordinates.replace(\n",
    "        ['daisy ramirez'], 'maria deisy ramirez')\n",
    "    families_coordinates = families_coordinates.replace(\n",
    "        ['maria eugenia morales'], 'maría eugenia morales')\n",
    "    families_coordinates = families_coordinates.replace(\n",
    "        ['ana catalina millón'], 'ana catalina garcía millón')\n",
    "    families_coordinates = families_coordinates.replace(\n",
    "        ['oralia ramimez'], 'oralia ramirez')\n",
    "    families_coordinates = families_coordinates.replace(\n",
    "        ['roosvelt donaire'], 'roosevelt donaire')\n",
    "\n",
    "    return families_coordinates\n",
    "\n",
    "def merged_unified(farming, families_coordinates, historic_w):\n",
    "    '''\n",
    "    takes farming dataset, family_coordinates, historic weather\n",
    "    '''\n",
    "\n",
    "    # Merge geolocation on family names\n",
    "    geo_farm = pd.merge(farming, families_coordinates[['Name', 'apienter', 'latitude', 'longitude']], \n",
    "                                  how=\"left\", left_on=\"Family visited\", \n",
    "                                  right_on=\"Name\").drop(columns=['Name'])\n",
    "\n",
    "    # For missing locations, average longitude 12.46 and avg latitude: -86.96 are imputed                               \n",
    "    geo_farm['apienter'].fillna('12.46%-86.96', inplace=True)\n",
    "\n",
    "    \n",
    "    historic_w['date_time'] = pd.to_datetime(historic_w.date_time)\n",
    "\n",
    "    # Merge weather on geolocation\n",
    "    final = pd.merge(geo_farm, historic_w,\n",
    "                        how=\"left\", left_on=[\"Date visited\", \"apienter\"],\n",
    "                        right_on=[\"date_time\", \"location\"])\n",
    "    \n",
    "    # Last column addition\n",
    "    final[\"Month visited\"] = final[\"Date visited\"].dt.month\n",
    "    final[\"Year visited\"] = final[\"Date visited\"].dt.year\n",
    "    \n",
    "    return final"
   ]
  },
  {
   "cell_type": "code",
   "execution_count": 131,
   "metadata": {
    "id": "Kg3APq1iETVU"
   },
   "outputs": [
    {
     "ename": "NameError",
     "evalue": "name 'combined_farming' is not defined",
     "output_type": "error",
     "traceback": [
      "\u001b[0;31m---------------------------------------------------------------------------\u001b[0m",
      "\u001b[0;31mNameError\u001b[0m                                 Traceback (most recent call last)",
      "\u001b[0;32m<ipython-input-131-461574886423>\u001b[0m in \u001b[0;36m<module>\u001b[0;34m\u001b[0m\n\u001b[1;32m      1\u001b[0m \u001b[0;31m# this cell runs all the defined functions to clean the data\u001b[0m\u001b[0;34m\u001b[0m\u001b[0;34m\u001b[0m\u001b[0;34m\u001b[0m\u001b[0m\n\u001b[1;32m      2\u001b[0m \u001b[0;34m\u001b[0m\u001b[0m\n\u001b[0;32m----> 3\u001b[0;31m \u001b[0mcombined_data\u001b[0m \u001b[0;34m=\u001b[0m \u001b[0mcombined_farming\u001b[0m\u001b[0;34m(\u001b[0m\u001b[0mdata_17_19\u001b[0m\u001b[0;34m,\u001b[0m\u001b[0mdata_19_20\u001b[0m\u001b[0;34m)\u001b[0m\u001b[0;34m\u001b[0m\u001b[0;34m\u001b[0m\u001b[0m\n\u001b[0m\u001b[1;32m      4\u001b[0m \u001b[0mcombined_data\u001b[0m \u001b[0;34m=\u001b[0m \u001b[0mclean_farming\u001b[0m\u001b[0;34m(\u001b[0m\u001b[0mcombined_data\u001b[0m\u001b[0;34m)\u001b[0m\u001b[0;34m\u001b[0m\u001b[0;34m\u001b[0m\u001b[0m\n\u001b[1;32m      5\u001b[0m \u001b[0mfamilies_coordinates\u001b[0m \u001b[0;34m=\u001b[0m \u001b[0mclean_gps\u001b[0m\u001b[0;34m(\u001b[0m\u001b[0mfamilies_coordinates\u001b[0m\u001b[0;34m)\u001b[0m\u001b[0;34m\u001b[0m\u001b[0;34m\u001b[0m\u001b[0m\n",
      "\u001b[0;31mNameError\u001b[0m: name 'combined_farming' is not defined"
     ]
    }
   ],
   "source": [
    "# this cell runs all the defined functions to clean the data\n",
    "\n",
    "combined_data = combined_farming(data_17_19,data_19_20)\n",
    "combined_data = clean_farming(combined_data)\n",
    "families_coordinates = clean_gps(families_coordinates)\n",
    "\n",
    "# Check Farming Dataset names against Correct Name List\n",
    "# extra_names = [name for name in final[\"Family visited\"].unique() if name not in correct_names.iloc[:,3].unique()]\n",
    "# extra_names.sort()\n",
    "\n",
    "# Check Family Coordinates names against Farming Dataset names\n",
    "# [name for name in families_coordinates[\"Name\"].unique() if name not in final[\"Family visited\"].unique()]\n",
    "\n",
    "final = merged_unified(combined_data, families_coordinates, historic_w)\n",
    "# Write to CSV\n",
    "# final.to_csv('VL_farm_geo_w.csv')\n",
    "# final.to_csv(\"/content/drive/MyDrive/VL_farm.csv\")\n",
    "\n",
    "df\n"
   ]
  },
  {
   "cell_type": "code",
   "execution_count": null,
   "metadata": {
    "colab": {
     "base_uri": "https://localhost:8080/"
    },
    "id": "vDHgBBZ-EjQP",
    "outputId": "fee7cb29-7ceb-4467-d520-bd45babdd83c"
   },
   "outputs": [
    {
     "name": "stdout",
     "output_type": "stream",
     "text": [
      "0.47125370919881304\n",
      " * Serving Flask app \"__main__\" (lazy loading)\n",
      " * Environment: production\n",
      "\u001b[31m   WARNING: This is a development server. Do not use it in a production deployment.\u001b[0m\n",
      "\u001b[2m   Use a production WSGI server instead.\u001b[0m\n",
      " * Debug mode: off\n"
     ]
    },
    {
     "name": "stderr",
     "output_type": "stream",
     "text": [
      "127.0.0.1 - - [07/May/2021 16:31:00] \"\u001b[37mGET / HTTP/1.1\u001b[0m\" 200 -\n",
      "127.0.0.1 - - [07/May/2021 16:31:00] \"\u001b[33mGET /favicon.ico HTTP/1.1\u001b[0m\" 404 -\n"
     ]
    }
   ],
   "source": [
    "import pickle \n",
    "import pandas as pd  #Pandas for data pre-processing\n",
    "import joblib\n",
    "import pickle #Pickle for pickling (saving) the model \n",
    "\n",
    "from sklearn.feature_extraction.text import CountVectorizer #To Vectorize the textual data \n",
    "\n",
    "from sklearn.naive_bayes import MultinomialNB #The algorithm for prediction \n",
    "\n",
    " #Alternative Usage of Saved Model \n",
    "\n",
    "from sklearn.model_selection import train_test_split #Validation split\n",
    "filename = 'finalized_model2.sav'\n",
    "pickle.dump(SVC, open(filename, 'wb'))\n",
    " \n",
    "# some time later...\n",
    " \n",
    "# load the model from disk\n",
    "loaded_model = pickle.load(open(filename, 'rb'))\n",
    "result = loaded_model.score(X_train, y_train)\n",
    "print(result)\n",
    "\n",
    "cv = CountVectorizer() \n",
    "\n",
    "\n",
    "joblib.dump(SVC, 'NB_spam_model.pkl') \n",
    "joblib.dump(cv, 'cv.pkl')\n",
    "\n",
    "import pickle\n",
    "with open('farm_model_xgboost.pkl', 'wb') as file:\n",
    "    pickle.dump(SVC, file)\n",
    "    \n",
    "import flask\n",
    "app = flask.Flask(__name__, template_folder='templates')\n",
    "@app.route('/', methods=['GET', 'POST'])\n",
    "def main():\n",
    "    if flask.request.method == 'GET':\n",
    "        return(flask.render_template('main.html'))\n",
    "    if flask.request.method == 'POST':\n",
    "        temperature = flask.request.form['% Disease']\n",
    "        humidity = flask.request.form['Wellness_Condition']\n",
    "        windspeed = flask.request.form['HeatIndexC']\n",
    "        x1 = flask.request.form['DewPointC']\n",
    "        x2 = flask.request.form['WindChillC']\n",
    "        x3 = flask.request.form['Season_Fall']\n",
    "        x4 = flask.request.form['Season_Spring']\n",
    "        x5 = flask.request.form['Season_Summer']\n",
    "        x6 = flask.request.form['Season_Winter']\n",
    "        x7 = flask.request.form['Region_Goyena']\n",
    "        x8 = flask.request.form['Region_Troilo']\n",
    "        \n",
    "        input_variables = pd.DataFrame([[temperature, humidity, windspeed]],\n",
    "                                       columns=['% Disease', 'Wellness_Condition', 'HeatIndexC','DewPointC', \n",
    "                                                'WindChillC', 'sunHour', 'Season_Fall', 'Season_Spring', \n",
    "                                                'Season_Summer', 'Season_Winter', 'Region_Goyena', \n",
    "                                                'Region_Troilo'],\n",
    "                                       dtype=float)\n",
    "        prediction = model.predict(input_variables)[0]\n",
    "        return flask.render_template('main.html',\n",
    "                                     original_input={'% Disease': Disease,\n",
    "                                                     'Wellness_Condition':Wellness_Condition,\n",
    "                                                     'Region_Troilo':Region_Troilo},\n",
    "                                     result=prediction,\n",
    "                                     )\n",
    "if __name__ == '__main__':\n",
    "    app.run()"
   ]
  },
  {
   "cell_type": "code",
   "execution_count": 220,
   "metadata": {},
   "outputs": [
    {
     "name": "stdout",
     "output_type": "stream",
     "text": [
      " * Serving Flask app \"__main__\" (lazy loading)\n",
      " * Environment: production\n",
      "\u001b[31m   WARNING: This is a development server. Do not use it in a production deployment.\u001b[0m\n",
      "\u001b[2m   Use a production WSGI server instead.\u001b[0m\n",
      " * Debug mode: on\n"
     ]
    },
    {
     "name": "stderr",
     "output_type": "stream",
     "text": [
      " * Running on http://127.0.0.1:3933/ (Press CTRL+C to quit)\n",
      " * Restarting with fsevents reloader\n"
     ]
    },
    {
     "ename": "SystemExit",
     "evalue": "1",
     "output_type": "error",
     "traceback": [
      "An exception has occurred, use %tb to see the full traceback.\n",
      "\u001b[0;31mSystemExit\u001b[0m\u001b[0;31m:\u001b[0m 1\n"
     ]
    },
    {
     "name": "stderr",
     "output_type": "stream",
     "text": [
      "/Users/eva/opt/anaconda3/lib/python3.8/site-packages/IPython/core/interactiveshell.py:3426: UserWarning: To exit: use 'exit', 'quit', or Ctrl-D.\n",
      "  warn(\"To exit: use 'exit', 'quit', or Ctrl-D.\", stacklevel=1)\n"
     ]
    }
   ],
   "source": [
    "from flask import Flask, render_template, request\n",
    "app = Flask(__name__) \n",
    "\n",
    "@app.route('/') #Routes the app to below task when the URL is called \n",
    "\n",
    "def home(): \n",
    "\n",
    "    return render_template('main.html')\n",
    "def predict_fun(): \n",
    "\n",
    "    NB_spam_model = open('NB_spam_model.pkl','rb') \n",
    "    clf = joblib.load(NB_spam_model)\n",
    "    cv_model = open('cv.pkl', 'rb')\n",
    "    cv = joblib.load(cv_model)\n",
    "    if request.method == 'POST': \n",
    "\n",
    "        message = request.form['message'] \n",
    "        data = [message] \n",
    "        vect = cv.transform(data).toarray()\n",
    "        my_prediction = clf.predict(vect) \n",
    "\n",
    "    return render_template('main.html',prediction = my_prediction)   \n",
    "\n",
    "#Calling the main function and running the flask app \n",
    "\n",
    "if __name__==\"__main__\":\n",
    "    app.run(host='127.0.0.1',port=3933,debug=True) "
   ]
  },
  {
   "cell_type": "code",
   "execution_count": null,
   "metadata": {
    "colab": {
     "base_uri": "https://localhost:8080/",
     "height": 409
    },
    "id": "_Kf0CJJUkmgK",
    "outputId": "12499fe3-247a-4660-9942-8a1738dd73b8"
   },
   "outputs": [],
   "source": []
  },
  {
   "cell_type": "code",
   "execution_count": null,
   "metadata": {
    "id": "HUnyqYWHkmoV"
   },
   "outputs": [],
   "source": []
  },
  {
   "cell_type": "code",
   "execution_count": null,
   "metadata": {
    "id": "ANKbYY2mkmrm"
   },
   "outputs": [],
   "source": []
  },
  {
   "cell_type": "code",
   "execution_count": null,
   "metadata": {
    "id": "cuM6m_dUkmvC"
   },
   "outputs": [],
   "source": []
  },
  {
   "cell_type": "code",
   "execution_count": null,
   "metadata": {
    "id": "O_BMzUSzkmxU"
   },
   "outputs": [],
   "source": []
  },
  {
   "cell_type": "code",
   "execution_count": null,
   "metadata": {
    "id": "xSlGdhcekmz2"
   },
   "outputs": [],
   "source": []
  }
 ],
 "metadata": {
  "colab": {
   "collapsed_sections": [],
   "name": "VL_Classifier",
   "provenance": []
  },
  "kernelspec": {
   "display_name": "Python 3",
   "language": "python",
   "name": "python3"
  },
  "language_info": {
   "codemirror_mode": {
    "name": "ipython",
    "version": 3
   },
   "file_extension": ".py",
   "mimetype": "text/x-python",
   "name": "python",
   "nbconvert_exporter": "python",
   "pygments_lexer": "ipython3",
   "version": "3.8.5"
  }
 },
 "nbformat": 4,
 "nbformat_minor": 1
}
